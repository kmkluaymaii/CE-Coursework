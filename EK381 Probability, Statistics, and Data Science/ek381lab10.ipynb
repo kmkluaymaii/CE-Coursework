{
 "cells": [
  {
   "cell_type": "markdown",
   "metadata": {},
   "source": [
    "# EK381 Exploratory Data Analysis <br> Lab 10: Confidence Intervals and Significance Testing"
   ]
  },
  {
   "cell_type": "markdown",
   "metadata": {},
   "source": [
    "### This lab was completed by Rawisara Chairat."
   ]
  },
  {
   "cell_type": "markdown",
   "metadata": {},
   "source": [
    "## Please do not clear outputs for this lab, as some of the problems ask for generated figures."
   ]
  },
  {
   "cell_type": "markdown",
   "metadata": {},
   "source": [
    "In this lab, we will apply **confidence intervals** and **significance testing** to some real datasets. Our goals include:\n",
    "- Understanding visualizations, especially for **confidence intervals**.\n",
    "- Noticing that confidence intervals and p-values are not equivalent.\n",
    "- Using the p-value to reject the null hypothesis.\n",
    "- Modifying p-values to handle multiple null hypotheses.\n",
    "- Understanding the flaws of p-values, especially for very large datasets."
   ]
  },
  {
   "cell_type": "markdown",
   "metadata": {},
   "source": [
    "Recall, from Video 9.1, given **independent and identically distributed** (i.i.d.) random variables $X_1,\\ldots,X_n$ with mean $\\mu$, we define the **sample mean** as\n",
    "$$\\hat{\\mu} = M_n = \\frac{1}{n} \\sum_{i=1}^n X_i \\ .$$ We say that $M_n \\pm \\epsilon = [M_n - \\epsilon, M_n + \\epsilon]$ is a confidence interval for the mean with confidence level $1-\\alpha$ if $\\mathbb{P}[ | M_n - \\mu | > \\epsilon] = \\alpha$. By the Central Limit Theorem, we can approximate the distribution of $M_n$ as Gaussian, and this allows us to solve for $\\epsilon$ in terms of $\\alpha$ and the variance (whether it is known in advance or estimated from the data $X_1,\\ldots,X_n$."
   ]
  },
  {
   "cell_type": "code",
   "execution_count": 1,
   "metadata": {},
   "outputs": [],
   "source": [
    "#numpy is a package for working with arrays, linear algebra, etc. and stands for \"numerical Python\".\n",
    "import numpy as np\n",
    "#pandas is a package for working with data frames.\n",
    "import pandas as pd\n",
    "#matplotlib is a plotting library that mimics Matlab conventions.\n",
    "import matplotlib.pyplot as plt\n",
    "#seaborn is a data visualization package.\n",
    "import seaborn as sns\n",
    "#scipy.stats is a statistics library.\n",
    "import scipy.stats as st\n",
    "#sklearn is a machine learning library.\n",
    "from sklearn.model_selection import train_test_split\n",
    "from sklearn.linear_model import LinearRegression\n",
    "from sklearn.metrics import mean_squared_error, r2_score"
   ]
  },
  {
   "cell_type": "markdown",
   "metadata": {},
   "source": [
    "Let's start by loading a pre-processed version of the EK381 entrance survey, that we last used in Lab 2. Specifically, the original data set was processed as follows:\n",
    "- We only retained numerical data and the majors.\n",
    "- Column names were shortened to make referencing them easier.\n",
    "- In the survey, one answer to \"Age at First Smartphone\" was \"18+\". This was converted to \"18\" so that we can average it into the data.\n",
    "- In the survey, a couple of students wrote the names of the countries they've visited, rather than just the number of countries as an integer. These answers were dropped. (This can be done via `pd.to_numeric(df,errors='coerce')`.) Another possibility would have been to manually change these entries.\n",
    "- Instead of reporting the movie ratings as lists of movies underneath columns \"loved\", \"liked\", \"OK\", \"disliked\", and \"hated\", we give each movie its own column with possible values 5 (for \"loved\"), 4 (for \"liked\"), 3 (for \"OK\"), 2 (for \"disliked\"), 1 (for \"hated\"), and NaN (for \"didn't see it\"). This will make averaging the movie data much easier. (Recall that NaN means \"Not a Number\", and is excluded by basic pandas commands like `mean` and `var`.)\n",
    "\n",
    "Overall, pre-processing is an extremely important (and time-consuming) step in exploratory data analysis."
   ]
  },
  {
   "cell_type": "code",
   "execution_count": 2,
   "metadata": {},
   "outputs": [
    {
     "data": {
      "text/html": [
       "<div>\n",
       "<style scoped>\n",
       "    .dataframe tbody tr th:only-of-type {\n",
       "        vertical-align: middle;\n",
       "    }\n",
       "\n",
       "    .dataframe tbody tr th {\n",
       "        vertical-align: top;\n",
       "    }\n",
       "\n",
       "    .dataframe thead th {\n",
       "        text-align: right;\n",
       "    }\n",
       "</style>\n",
       "<table border=\"1\" class=\"dataframe\">\n",
       "  <thead>\n",
       "    <tr style=\"text-align: right;\">\n",
       "      <th></th>\n",
       "      <th>major</th>\n",
       "      <th>smartphone age</th>\n",
       "      <th>number countries</th>\n",
       "      <th>Avengers: Endgame</th>\n",
       "      <th>Back to the Future</th>\n",
       "      <th>Barbie</th>\n",
       "      <th>Booksmart</th>\n",
       "      <th>Deadpool and Wolverine</th>\n",
       "      <th>Die Hard</th>\n",
       "      <th>Dune</th>\n",
       "      <th>...</th>\n",
       "      <th>Knives Out</th>\n",
       "      <th>Lady Bird</th>\n",
       "      <th>Mad Max: Fury Road</th>\n",
       "      <th>My Neighbor Totoro</th>\n",
       "      <th>Oppenheimer</th>\n",
       "      <th>Poor Things</th>\n",
       "      <th>Spider-Man: Into the Spiderverse</th>\n",
       "      <th>Star Wars: A New Hope</th>\n",
       "      <th>The Matrix</th>\n",
       "      <th>To All The Boys I've Loved</th>\n",
       "    </tr>\n",
       "  </thead>\n",
       "  <tbody>\n",
       "    <tr>\n",
       "      <th>0</th>\n",
       "      <td>EE</td>\n",
       "      <td>18</td>\n",
       "      <td>25.0</td>\n",
       "      <td>5.0</td>\n",
       "      <td>NaN</td>\n",
       "      <td>4.0</td>\n",
       "      <td>2.0</td>\n",
       "      <td>3.0</td>\n",
       "      <td>4.0</td>\n",
       "      <td>3.0</td>\n",
       "      <td>...</td>\n",
       "      <td>NaN</td>\n",
       "      <td>NaN</td>\n",
       "      <td>NaN</td>\n",
       "      <td>3.0</td>\n",
       "      <td>1.0</td>\n",
       "      <td>NaN</td>\n",
       "      <td>NaN</td>\n",
       "      <td>2.0</td>\n",
       "      <td>2.0</td>\n",
       "      <td>2.0</td>\n",
       "    </tr>\n",
       "    <tr>\n",
       "      <th>1</th>\n",
       "      <td>EE</td>\n",
       "      <td>10</td>\n",
       "      <td>4.0</td>\n",
       "      <td>1.0</td>\n",
       "      <td>2.0</td>\n",
       "      <td>5.0</td>\n",
       "      <td>NaN</td>\n",
       "      <td>NaN</td>\n",
       "      <td>1.0</td>\n",
       "      <td>5.0</td>\n",
       "      <td>...</td>\n",
       "      <td>2.0</td>\n",
       "      <td>2.0</td>\n",
       "      <td>2.0</td>\n",
       "      <td>5.0</td>\n",
       "      <td>1.0</td>\n",
       "      <td>1.0</td>\n",
       "      <td>5.0</td>\n",
       "      <td>1.0</td>\n",
       "      <td>1.0</td>\n",
       "      <td>2.0</td>\n",
       "    </tr>\n",
       "    <tr>\n",
       "      <th>2</th>\n",
       "      <td>ME</td>\n",
       "      <td>13</td>\n",
       "      <td>7.0</td>\n",
       "      <td>NaN</td>\n",
       "      <td>NaN</td>\n",
       "      <td>NaN</td>\n",
       "      <td>NaN</td>\n",
       "      <td>4.0</td>\n",
       "      <td>NaN</td>\n",
       "      <td>NaN</td>\n",
       "      <td>...</td>\n",
       "      <td>NaN</td>\n",
       "      <td>NaN</td>\n",
       "      <td>NaN</td>\n",
       "      <td>NaN</td>\n",
       "      <td>2.0</td>\n",
       "      <td>NaN</td>\n",
       "      <td>5.0</td>\n",
       "      <td>5.0</td>\n",
       "      <td>3.0</td>\n",
       "      <td>NaN</td>\n",
       "    </tr>\n",
       "    <tr>\n",
       "      <th>3</th>\n",
       "      <td>BME</td>\n",
       "      <td>16</td>\n",
       "      <td>4.0</td>\n",
       "      <td>NaN</td>\n",
       "      <td>NaN</td>\n",
       "      <td>NaN</td>\n",
       "      <td>NaN</td>\n",
       "      <td>NaN</td>\n",
       "      <td>NaN</td>\n",
       "      <td>NaN</td>\n",
       "      <td>...</td>\n",
       "      <td>4.0</td>\n",
       "      <td>NaN</td>\n",
       "      <td>NaN</td>\n",
       "      <td>NaN</td>\n",
       "      <td>NaN</td>\n",
       "      <td>NaN</td>\n",
       "      <td>NaN</td>\n",
       "      <td>NaN</td>\n",
       "      <td>NaN</td>\n",
       "      <td>NaN</td>\n",
       "    </tr>\n",
       "    <tr>\n",
       "      <th>4</th>\n",
       "      <td>ME</td>\n",
       "      <td>12</td>\n",
       "      <td>14.0</td>\n",
       "      <td>4.0</td>\n",
       "      <td>5.0</td>\n",
       "      <td>3.0</td>\n",
       "      <td>5.0</td>\n",
       "      <td>1.0</td>\n",
       "      <td>5.0</td>\n",
       "      <td>2.0</td>\n",
       "      <td>...</td>\n",
       "      <td>5.0</td>\n",
       "      <td>NaN</td>\n",
       "      <td>NaN</td>\n",
       "      <td>5.0</td>\n",
       "      <td>3.0</td>\n",
       "      <td>NaN</td>\n",
       "      <td>5.0</td>\n",
       "      <td>5.0</td>\n",
       "      <td>5.0</td>\n",
       "      <td>NaN</td>\n",
       "    </tr>\n",
       "    <tr>\n",
       "      <th>...</th>\n",
       "      <td>...</td>\n",
       "      <td>...</td>\n",
       "      <td>...</td>\n",
       "      <td>...</td>\n",
       "      <td>...</td>\n",
       "      <td>...</td>\n",
       "      <td>...</td>\n",
       "      <td>...</td>\n",
       "      <td>...</td>\n",
       "      <td>...</td>\n",
       "      <td>...</td>\n",
       "      <td>...</td>\n",
       "      <td>...</td>\n",
       "      <td>...</td>\n",
       "      <td>...</td>\n",
       "      <td>...</td>\n",
       "      <td>...</td>\n",
       "      <td>...</td>\n",
       "      <td>...</td>\n",
       "      <td>...</td>\n",
       "      <td>...</td>\n",
       "    </tr>\n",
       "    <tr>\n",
       "      <th>210</th>\n",
       "      <td>ME</td>\n",
       "      <td>13</td>\n",
       "      <td>2.0</td>\n",
       "      <td>4.0</td>\n",
       "      <td>NaN</td>\n",
       "      <td>NaN</td>\n",
       "      <td>NaN</td>\n",
       "      <td>NaN</td>\n",
       "      <td>NaN</td>\n",
       "      <td>4.0</td>\n",
       "      <td>...</td>\n",
       "      <td>NaN</td>\n",
       "      <td>NaN</td>\n",
       "      <td>NaN</td>\n",
       "      <td>NaN</td>\n",
       "      <td>NaN</td>\n",
       "      <td>NaN</td>\n",
       "      <td>NaN</td>\n",
       "      <td>NaN</td>\n",
       "      <td>NaN</td>\n",
       "      <td>NaN</td>\n",
       "    </tr>\n",
       "    <tr>\n",
       "      <th>211</th>\n",
       "      <td>EE</td>\n",
       "      <td>14</td>\n",
       "      <td>15.0</td>\n",
       "      <td>4.0</td>\n",
       "      <td>NaN</td>\n",
       "      <td>NaN</td>\n",
       "      <td>NaN</td>\n",
       "      <td>5.0</td>\n",
       "      <td>NaN</td>\n",
       "      <td>NaN</td>\n",
       "      <td>...</td>\n",
       "      <td>NaN</td>\n",
       "      <td>NaN</td>\n",
       "      <td>NaN</td>\n",
       "      <td>NaN</td>\n",
       "      <td>5.0</td>\n",
       "      <td>NaN</td>\n",
       "      <td>4.0</td>\n",
       "      <td>5.0</td>\n",
       "      <td>5.0</td>\n",
       "      <td>NaN</td>\n",
       "    </tr>\n",
       "    <tr>\n",
       "      <th>212</th>\n",
       "      <td>BME</td>\n",
       "      <td>13</td>\n",
       "      <td>2.0</td>\n",
       "      <td>NaN</td>\n",
       "      <td>NaN</td>\n",
       "      <td>4.0</td>\n",
       "      <td>NaN</td>\n",
       "      <td>NaN</td>\n",
       "      <td>NaN</td>\n",
       "      <td>NaN</td>\n",
       "      <td>...</td>\n",
       "      <td>NaN</td>\n",
       "      <td>NaN</td>\n",
       "      <td>NaN</td>\n",
       "      <td>NaN</td>\n",
       "      <td>NaN</td>\n",
       "      <td>NaN</td>\n",
       "      <td>NaN</td>\n",
       "      <td>NaN</td>\n",
       "      <td>NaN</td>\n",
       "      <td>NaN</td>\n",
       "    </tr>\n",
       "    <tr>\n",
       "      <th>213</th>\n",
       "      <td>BME</td>\n",
       "      <td>11</td>\n",
       "      <td>15.0</td>\n",
       "      <td>5.0</td>\n",
       "      <td>NaN</td>\n",
       "      <td>5.0</td>\n",
       "      <td>NaN</td>\n",
       "      <td>NaN</td>\n",
       "      <td>4.0</td>\n",
       "      <td>3.0</td>\n",
       "      <td>...</td>\n",
       "      <td>NaN</td>\n",
       "      <td>NaN</td>\n",
       "      <td>NaN</td>\n",
       "      <td>NaN</td>\n",
       "      <td>NaN</td>\n",
       "      <td>NaN</td>\n",
       "      <td>NaN</td>\n",
       "      <td>NaN</td>\n",
       "      <td>NaN</td>\n",
       "      <td>NaN</td>\n",
       "    </tr>\n",
       "    <tr>\n",
       "      <th>214</th>\n",
       "      <td>ME</td>\n",
       "      <td>11</td>\n",
       "      <td>8.0</td>\n",
       "      <td>5.0</td>\n",
       "      <td>NaN</td>\n",
       "      <td>4.0</td>\n",
       "      <td>NaN</td>\n",
       "      <td>NaN</td>\n",
       "      <td>NaN</td>\n",
       "      <td>4.0</td>\n",
       "      <td>...</td>\n",
       "      <td>NaN</td>\n",
       "      <td>NaN</td>\n",
       "      <td>NaN</td>\n",
       "      <td>NaN</td>\n",
       "      <td>NaN</td>\n",
       "      <td>NaN</td>\n",
       "      <td>NaN</td>\n",
       "      <td>NaN</td>\n",
       "      <td>NaN</td>\n",
       "      <td>NaN</td>\n",
       "    </tr>\n",
       "  </tbody>\n",
       "</table>\n",
       "<p>215 rows × 26 columns</p>\n",
       "</div>"
      ],
      "text/plain": [
       "    major  smartphone age  number countries  Avengers: Endgame  \\\n",
       "0      EE              18              25.0                5.0   \n",
       "1      EE              10               4.0                1.0   \n",
       "2      ME              13               7.0                NaN   \n",
       "3     BME              16               4.0                NaN   \n",
       "4      ME              12              14.0                4.0   \n",
       "..    ...             ...               ...                ...   \n",
       "210    ME              13               2.0                4.0   \n",
       "211    EE              14              15.0                4.0   \n",
       "212   BME              13               2.0                NaN   \n",
       "213   BME              11              15.0                5.0   \n",
       "214    ME              11               8.0                5.0   \n",
       "\n",
       "     Back to the Future  Barbie  Booksmart  Deadpool and Wolverine  Die Hard  \\\n",
       "0                   NaN     4.0        2.0                     3.0       4.0   \n",
       "1                   2.0     5.0        NaN                     NaN       1.0   \n",
       "2                   NaN     NaN        NaN                     4.0       NaN   \n",
       "3                   NaN     NaN        NaN                     NaN       NaN   \n",
       "4                   5.0     3.0        5.0                     1.0       5.0   \n",
       "..                  ...     ...        ...                     ...       ...   \n",
       "210                 NaN     NaN        NaN                     NaN       NaN   \n",
       "211                 NaN     NaN        NaN                     5.0       NaN   \n",
       "212                 NaN     4.0        NaN                     NaN       NaN   \n",
       "213                 NaN     5.0        NaN                     NaN       4.0   \n",
       "214                 NaN     4.0        NaN                     NaN       NaN   \n",
       "\n",
       "     Dune  ...  Knives Out  Lady Bird  Mad Max: Fury Road  My Neighbor Totoro  \\\n",
       "0     3.0  ...         NaN        NaN                 NaN                 3.0   \n",
       "1     5.0  ...         2.0        2.0                 2.0                 5.0   \n",
       "2     NaN  ...         NaN        NaN                 NaN                 NaN   \n",
       "3     NaN  ...         4.0        NaN                 NaN                 NaN   \n",
       "4     2.0  ...         5.0        NaN                 NaN                 5.0   \n",
       "..    ...  ...         ...        ...                 ...                 ...   \n",
       "210   4.0  ...         NaN        NaN                 NaN                 NaN   \n",
       "211   NaN  ...         NaN        NaN                 NaN                 NaN   \n",
       "212   NaN  ...         NaN        NaN                 NaN                 NaN   \n",
       "213   3.0  ...         NaN        NaN                 NaN                 NaN   \n",
       "214   4.0  ...         NaN        NaN                 NaN                 NaN   \n",
       "\n",
       "     Oppenheimer  Poor Things  Spider-Man: Into the Spiderverse  \\\n",
       "0            1.0          NaN                               NaN   \n",
       "1            1.0          1.0                               5.0   \n",
       "2            2.0          NaN                               5.0   \n",
       "3            NaN          NaN                               NaN   \n",
       "4            3.0          NaN                               5.0   \n",
       "..           ...          ...                               ...   \n",
       "210          NaN          NaN                               NaN   \n",
       "211          5.0          NaN                               4.0   \n",
       "212          NaN          NaN                               NaN   \n",
       "213          NaN          NaN                               NaN   \n",
       "214          NaN          NaN                               NaN   \n",
       "\n",
       "     Star Wars: A New Hope  The Matrix  To All The Boys I've Loved  \n",
       "0                      2.0         2.0                         2.0  \n",
       "1                      1.0         1.0                         2.0  \n",
       "2                      5.0         3.0                         NaN  \n",
       "3                      NaN         NaN                         NaN  \n",
       "4                      5.0         5.0                         NaN  \n",
       "..                     ...         ...                         ...  \n",
       "210                    NaN         NaN                         NaN  \n",
       "211                    5.0         5.0                         NaN  \n",
       "212                    NaN         NaN                         NaN  \n",
       "213                    NaN         NaN                         NaN  \n",
       "214                    NaN         NaN                         NaN  \n",
       "\n",
       "[215 rows x 26 columns]"
      ]
     },
     "execution_count": 2,
     "metadata": {},
     "output_type": "execute_result"
    }
   ],
   "source": [
    "survey_df = pd.read_csv(\"datasets/entrancesurvey_processed.csv\") #Put the path to entrancesurvey.csv inside the quotes.\n",
    "survey_df "
   ]
  },
  {
   "cell_type": "markdown",
   "metadata": {},
   "source": [
    "Let's start by computing the mean age at the time of first smartphone (\"smartphone age\") for each major. The following code will give us the numerical values."
   ]
  },
  {
   "cell_type": "code",
   "execution_count": 3,
   "metadata": {},
   "outputs": [
    {
     "data": {
      "text/plain": [
       "major\n",
       "BME    12.145833\n",
       "CE     12.065217\n",
       "EE     13.368421\n",
       "ME     12.462963\n",
       "Name: smartphone age, dtype: float64"
      ]
     },
     "execution_count": 3,
     "metadata": {},
     "output_type": "execute_result"
    }
   ],
   "source": [
    "survey_df.groupby('major')['smartphone age'].mean()"
   ]
  },
  {
   "cell_type": "markdown",
   "metadata": {},
   "source": [
    "Alternatively, we can go straight to the visualization using `sns.barplot`, setting the x-values to be `major` and the y-values to be `smartphone age`. We've also set hue to `major` as well so that each bar is a different color. From the plot, you should see that, on average, EE majors got their first smartphone about a year later than other majors."
   ]
  },
  {
   "cell_type": "code",
   "execution_count": 4,
   "metadata": {},
   "outputs": [
    {
     "data": {
      "text/plain": [
       "<Axes: xlabel='major', ylabel='smartphone age'>"
      ]
     },
     "execution_count": 4,
     "metadata": {},
     "output_type": "execute_result"
    },
    {
     "data": {
      "image/png": "[encoded data removed]",
      "text/plain": [
       "<Figure size 640x480 with 1 Axes>"
      ]
     },
     "metadata": {},
     "output_type": "display_data"
    }
   ],
   "source": [
    "sns.barplot(data=survey_df,x='major',y='smartphone age',hue='major',errorbar=None)"
   ]
  },
  {
   "cell_type": "markdown",
   "metadata": {},
   "source": [
    "Now, let's add confidence intervals to our barplot. This is also built into `sns.barplot` as `errorbar`. Let's start by using the Gaussian confidence interval for known variance **or** more than $30$ samples (even though this is not technically true since we do not know the variance and we only have 19 responses from EE majors). We know that in this setting we should set $\\epsilon = \\frac{\\sigma}{\\sqrt{n}} Q^{-1}(\\alpha/2)$. Recall that $Q^{-1}(0.05) = 1.64$, $Q^{-1}(0.025) = 1.96$, and $Q^{-1}(0.005) = 2.57$ so \n",
    "- for confidence level $0.9$, we should set $\\epsilon = \\frac{\\sigma}{\\sqrt{n}} 1.64$,\n",
    "- for confidence level $0.95$, we should set $\\epsilon = \\frac{\\sigma}{\\sqrt{n}} 1.96$,\n",
    "- for confidence level $0.99$, we should set $\\epsilon = \\frac{\\sigma}{\\sqrt{n}} 2.57$.\n",
    "\n",
    "It turns out that all we need to do is set $\\text{errorbar} = (\\text{`se'},Q^{-1}(\\alpha/2))$, below is an example that shows confidence level $0.95$."
   ]
  },
  {
   "cell_type": "code",
   "execution_count": 5,
   "metadata": {},
   "outputs": [
    {
     "data": {
      "text/plain": [
       "<Axes: xlabel='major', ylabel='smartphone age'>"
      ]
     },
     "execution_count": 5,
     "metadata": {},
     "output_type": "execute_result"
    },
    {
     "data": {
      "image/png": "[encoded data removed]",
      "text/plain": [
       "<Figure size 640x480 with 1 Axes>"
      ]
     },
     "metadata": {},
     "output_type": "display_data"
    }
   ],
   "source": [
    "sns.barplot(data=survey_df,x='major',y='smartphone age',hue='major',errorbar=('se',1.96))"
   ]
  },
  {
   "cell_type": "markdown",
   "metadata": {},
   "source": [
    "Another way to compute confidence intervals is directly via the data using a method called **bootstrapping**. This is beyond our scope, but at a high level, involves resampling the dataset with replacement many times. See [this video](https://www.youtube.com/watch?v=TqOeMYtOc1w) or [this wikipedia page](https://en.wikipedia.org/wiki/Bootstrapping_(statistics)) for more details. This is the built-in confidence interval for `sns.barplot` with default confidence level $0.95$. You should see no visual difference between the plot below and the plot above, which used Gaussian confidence intervals."
   ]
  },
  {
   "cell_type": "code",
   "execution_count": 6,
   "metadata": {},
   "outputs": [
    {
     "data": {
      "text/plain": [
       "<Axes: xlabel='major', ylabel='smartphone age'>"
      ]
     },
     "execution_count": 6,
     "metadata": {},
     "output_type": "execute_result"
    },
    {
     "data": {
      "image/png": "[encoded data removed]",
      "text/plain": [
       "<Figure size 640x480 with 1 Axes>"
      ]
     },
     "metadata": {},
     "output_type": "display_data"
    }
   ],
   "source": [
    "sns.barplot(data=survey_df,x='major',y='smartphone age',hue='major')"
   ]
  },
  {
   "cell_type": "markdown",
   "metadata": {},
   "source": [
    "If you want to change the confidence level, you can use the `errorbar =('ci',95)` parameter, and change 95 to your desired value."
   ]
  },
  {
   "cell_type": "code",
   "execution_count": 19,
   "metadata": {},
   "outputs": [
    {
     "data": {
      "text/plain": [
       "<Axes: xlabel='major', ylabel='smartphone age'>"
      ]
     },
     "execution_count": 19,
     "metadata": {},
     "output_type": "execute_result"
    },
    {
     "data": {
      "image/png": "[encoded data removed]",
      "text/plain": [
       "<Figure size 640x480 with 1 Axes>"
      ]
     },
     "metadata": {},
     "output_type": "display_data"
    }
   ],
   "source": [
    "sns.barplot(data=survey_df,x='major',y='smartphone age',hue='major',errorbar=('ci',95))"
   ]
  },
  {
   "cell_type": "markdown",
   "metadata": {},
   "source": [
    "---\n",
    "####  L10.1 Using the code above, change the confidence level. How does the confidence interval length change as you decrease the confidence level? Explain why this makes sense.\n",
    "\n",
    "#### Answer: The confidence intervals length becomes shorter as the confidence level decreases because a lower confidence level allows for a smaller range around the estimate.\n",
    "---"
   ]
  },
  {
   "cell_type": "markdown",
   "metadata": {},
   "source": [
    "Now, let's consider the following question: Did EE majors, on average, get their first smartphone significantly later than CE majors? From the plot, we can see that the 95% confidence intervals overlap. Does this mean we should conclude that the EE and CE means are the same? It turns out that confidence intervals are not the right framework to anwer this question. Instead, we should use the **significance testing** framework. Recall that, in Video 9.3, we considered the following options:\n",
    "- *One-Sample Z-Test:* Comparing the mean of a dataset with known variance $\\sigma^2$ to a baseline mean $\\mu$.\n",
    "- *One-Sample T-Test:* Comparing the mean of a dataset with unknown variance to a baseline mean $\\mu$.\n",
    "- *Two-Sample Z-Test:* Comparing the means of two datasets with known variances $\\sigma_1^2$ and $\\sigma_2^2$.\n",
    "- *Two-Sample T-Test:* Comparing the means of two datasets with unknown but equal variance.\n",
    "\n",
    "Each of these tests outputs a $\\textrm{p-value}$ that we need to compare to our pre-selected significance level $\\alpha$. If $\\textrm{p-value} < \\alpha$, we **reject the null hypothesis,** which is the formal, statistical language for deciding that the means are significantly different. Otherwise, if $\\textrm{p-value} \\geq \\alpha$, we **fail to reject the null hypothesis,** which is the formal, statistical language for deciding that the means are not significantly different, i.e., they are statistically indistinguishable for the given data.\n",
    "\n",
    "It turns out that the two-sample T-test is the best match for our scenario, since we are comparing two datasets, we do not know the variances, and it is reasonable to assume that the variances are the same. The code below extracts the smartphone age data for each major and computes the T-statistic and the corresponding p-value. Recall from Video 9.3 that the equations are \n",
    "$$\\sigma^2_{\\text{pooled}} = \\frac{(n_1 - 1) \\hat{\\sigma}_1^2 + (n_2 - 1) \\hat{\\sigma}_2^2}{n_1 + n_2 - 2} \\qquad \\qquad T = \\frac{\\hat{\\mu}_1  - \\hat{\\mu}_2}{\\sigma_{\\text{pooled}} \\sqrt{\\frac{1}{n_1} + \\frac{1}{n_2}}} \\qquad  \\qquad \\textrm{p-value} = 2 F_{T_{n_1 + n_2 - 2}}(-|T|)$$\n",
    "where $n_1, \\hat{\\mu}_1, \\hat{\\sigma}_1^2$ are the number of samples, sample mean, and sample variances for the first dataset, and $n_2, \\hat{\\mu}_2, \\hat{\\sigma}_2^2$ are the number of samples, sample mean, and sample variances for the second dataset. We will also decide to use a significance level of $\\alpha = 0.05$."
   ]
  },
  {
   "cell_type": "code",
   "execution_count": 20,
   "metadata": {},
   "outputs": [
    {
     "name": "stdout",
     "output_type": "stream",
     "text": [
      "T-statistic: 2.346788235142763, P-value: 0.022093406460019352\n",
      "Reject the null hypothesis at a significance level of 0.05.\n"
     ]
    }
   ],
   "source": [
    "# Set significance level\n",
    "significance_level = 0.05\n",
    "\n",
    "# Extract the two groups to compare from the full dataset.\n",
    "group1 = survey_df[survey_df['major'] == 'EE']['smartphone age']\n",
    "group2 = survey_df[survey_df['major'] == 'CE']['smartphone age']\n",
    "\n",
    "# Calculate the sample sizes, means, and variances for each group.\n",
    "n1 = group1.size\n",
    "n2 = group2.size\n",
    "mean1 = group1.mean()\n",
    "mean2 = group2.mean()\n",
    "var1 = group1.var()\n",
    "var2 = group2.var()\n",
    "\n",
    "# Perform a two-sample T-test\n",
    "varpool = ((n1-1)*var1 + (n2-1)*var2)/(n1 + n2 - 2) #pool the variance estimates (since we presume equal variance)\n",
    "t_stat = (mean1-mean2)/(np.sqrt(varpool * (1/n1 + 1/n2))) #calculate the T-statistic\n",
    "p_value = 2*st.t.cdf(-np.abs(t_stat),n1+n2-2) #calculate the p-value using a T-distribution with n1+n2-2 degrees-of-freedom\n",
    "print(f\"T-statistic: {t_stat}, P-value: {p_value}\") #output the T-statistic and p-value\n",
    "if p_value < significance_level:\n",
    "    print('Reject the null hypothesis at a significance level of ' + str(significance_level) + '.')\n",
    "else:\n",
    "    print('Fall to reject the null hypothesis at a significance level of ' + str(significance_level) + '.')"
   ]
  },
  {
   "cell_type": "markdown",
   "metadata": {},
   "source": [
    "Since the p-value is less than 0.05, we should reject the null hypothesis, and conclude that the difference between the EE and CE means is statistically significant. You can also use the built-in function `ttest_ind` from `scipy.stats` to do this automatically"
   ]
  },
  {
   "cell_type": "code",
   "execution_count": 21,
   "metadata": {},
   "outputs": [
    {
     "name": "stdout",
     "output_type": "stream",
     "text": [
      "T-statistic: 2.346788235142763, P-value: 0.022093406460019352\n",
      "Reject the null hypothesis at a significance level of 0.05.\n"
     ]
    }
   ],
   "source": [
    "group1 = survey_df[survey_df['major'] == 'EE']['smartphone age']\n",
    "group2 = survey_df[survey_df['major'] == 'CE']['smartphone age']\n",
    "# Perform a two-sample T-test\n",
    "t_stat, p_value = st.ttest_ind(group1, group2, equal_var=True)\n",
    "print(f\"T-statistic: {t_stat}, P-value: {p_value}\")\n",
    "if p_value < significance_level:\n",
    "    print('Reject the null hypothesis at a significance level of ' + str(significance_level) + '.')\n",
    "else:\n",
    "    print('Fall to reject the null hypothesis at a significance level of ' + str(significance_level) + '.')"
   ]
  },
  {
   "cell_type": "code",
   "execution_count": 23,
   "metadata": {},
   "outputs": [
    {
     "data": {
      "text/plain": [
       "<Axes: xlabel='major', ylabel='number countries'>"
      ]
     },
     "execution_count": 23,
     "metadata": {},
     "output_type": "execute_result"
    },
    {
     "data": {
      "image/png": "[encoded data removed]",
      "text/plain": [
       "<Figure size 640x480 with 1 Axes>"
      ]
     },
     "metadata": {},
     "output_type": "display_data"
    }
   ],
   "source": [
    "survey_df.groupby('major')['number countries'].mean()\n",
    "sns.barplot(data=survey_df,x='major',y='number countries',hue='major',errorbar=('ci',95))"
   ]
  },
  {
   "cell_type": "code",
   "execution_count": 25,
   "metadata": {},
   "outputs": [
    {
     "name": "stdout",
     "output_type": "stream",
     "text": [
      "T-statistic: 1.4256132200706078, P-value: 0.15608570961372875\n",
      "Fall to reject the null hypothesis at a significance level of 0.05.\n"
     ]
    }
   ],
   "source": [
    "# Set significance level\n",
    "significance_level = 0.05\n",
    "\n",
    "# Extract the two groups to compare from the full dataset.\n",
    "group1 = survey_df[survey_df['major'] == 'BME']['number countries']\n",
    "group2 = survey_df[survey_df['major'] == 'ME']['number countries']\n",
    "\n",
    "# Calculate the sample sizes, means, and variances for each group.\n",
    "n1 = group1.size\n",
    "n2 = group2.size\n",
    "mean1 = group1.mean()\n",
    "mean2 = group2.mean()\n",
    "var1 = group1.var()\n",
    "var2 = group2.var()\n",
    "\n",
    "# Perform a two-sample T-test\n",
    "varpool = ((n1-1)*var1 + (n2-1)*var2)/(n1 + n2 - 2) #pool the variance estimates (since we presume equal variance)\n",
    "t_stat = (mean1-mean2)/(np.sqrt(varpool * (1/n1 + 1/n2))) #calculate the T-statistic\n",
    "p_value = 2*st.t.cdf(-np.abs(t_stat),n1+n2-2) #calculate the p-value using a T-distribution with n1+n2-2 degrees-of-freedom\n",
    "print(f\"T-statistic: {t_stat}, P-value: {p_value}\") #output the T-statistic and p-value\n",
    "if p_value < significance_level:\n",
    "    print('Reject the null hypothesis at a significance level of ' + str(significance_level) + '.')\n",
    "else:\n",
    "    print('Fall to reject the null hypothesis at a significance level of ' + str(significance_level) + '.')"
   ]
  },
  {
   "cell_type": "code",
   "execution_count": 27,
   "metadata": {},
   "outputs": [
    {
     "name": "stdout",
     "output_type": "stream",
     "text": [
      "T-statistic: 1.5060228398062987, P-value: 0.13450239762304883\n",
      "Fall to reject the null hypothesis at a significance level of 0.05.\n"
     ]
    }
   ],
   "source": [
    "group1 = survey_df[survey_df['major'] == 'BME']['number countries'].dropna()\n",
    "group2 = survey_df[survey_df['major'] == 'ME']['number countries'].dropna()\n",
    "# Perform a two-sample T-test\n",
    "t_stat, p_value = st.ttest_ind(group1, group2, equal_var=False)\n",
    "print(f\"T-statistic: {t_stat}, P-value: {p_value}\")\n",
    "if p_value < significance_level:\n",
    "    print('Reject the null hypothesis at a significance level of ' + str(significance_level) + '.')\n",
    "else:\n",
    "    print('Fall to reject the null hypothesis at a significance level of ' + str(significance_level) + '.')"
   ]
  },
  {
   "cell_type": "markdown",
   "metadata": {},
   "source": [
    "---\n",
    "####  L10.2 Now, let's examine the data for the number of countries that each survey respondent has visited. \n",
    "#### (a) Create a bar plot for the average number of countries visited by each major along with a 95% confidence interval. Which major, on average, has visited the most countries? Which major, on average, has visited the least? From the plot, do you think this is a significant finding (before formally checking the p-value)?\n",
    "\n",
    "#### Major with Highest Mean: BME\n",
    "#### Major with Lowest Mean: ME\n",
    "#### Guess as to whether this is significant: Not significant\n",
    "\n",
    "#### (b) Now, go ahead and compare the means for the two majors you selected in part (a) using significance testing with a significance level of 0.05. If you use the built-in function `st.ttest_ind` you will get an error. This is because this survey question was not a required field (whereas the smartphone age was). To ignore the correspond \"NaN\" values, you need to add the command `.dropna()` to the end of your code for creating each group. Report the resulting p-value and your decision.\n",
    "\n",
    "#### p-value = 0.1561\n",
    "#### Decision: Fail to reject the null hypothesis at a significance level of 0.05.\n",
    "\n",
    "#### (c) It turns out that the built-in function `st.ttest_ind` allows us to use a T-test with unequal variances (i.e., [Welch's T-test](https://en.wikipedia.org/wiki/Welch%27s_t-test)), which we did not cover in class. Try this out by setting `equal_var = False`. Report the resulting p-value and your conclusion.\n",
    "\n",
    "#### p-value = 0.1345\n",
    "#### Decision = Fail to reject the null hypothesis at a significance level of 0.05.\n",
    "---"
   ]
  },
  {
   "cell_type": "code",
   "execution_count": 36,
   "metadata": {},
   "outputs": [
    {
     "data": {
      "text/plain": [
       "<Axes: xlabel='major', ylabel='Dune'>"
      ]
     },
     "execution_count": 36,
     "metadata": {},
     "output_type": "execute_result"
    },
    {
     "data": {
      "image/png": "[encoded data removed]",
      "text/plain": [
       "<Figure size 640x480 with 1 Axes>"
      ]
     },
     "metadata": {},
     "output_type": "display_data"
    }
   ],
   "source": [
    "survey_df.groupby('major')['Dune'].mean()\n",
    "sns.barplot(data=survey_df,x='major',y='Dune',hue='major',errorbar=('ci',95))"
   ]
  },
  {
   "cell_type": "code",
   "execution_count": 54,
   "metadata": {},
   "outputs": [
    {
     "name": "stdout",
     "output_type": "stream",
     "text": [
      "0.3190883190883192 1.3076923076923077\n"
     ]
    }
   ],
   "source": [
    "group1 = survey_df[survey_df['major'] == 'CE']['Dune']\n",
    "group2 = survey_df[survey_df['major'] == 'EE']['Dune']\n",
    "var1 = group1.var()\n",
    "var2 = group2.var()\n",
    "print(var1, var2)"
   ]
  },
  {
   "cell_type": "code",
   "execution_count": 43,
   "metadata": {},
   "outputs": [
    {
     "name": "stdout",
     "output_type": "stream",
     "text": [
      "T-statistic: 2.4784211454250573, P-value: 0.015887431332417892\n",
      "Reject the null hypothesis at a significance level of 0.05.\n"
     ]
    }
   ],
   "source": [
    "# Set significance level\n",
    "significance_level = 0.05\n",
    "\n",
    "# Extract the two groups to compare from the full dataset.\n",
    "group1 = survey_df[survey_df['major'] == 'CE']['Dune']\n",
    "group2 = survey_df[survey_df['major'] == 'EE']['Dune']\n",
    "\n",
    "# Calculate the sample sizes, means, and variances for each group.\n",
    "n1 = group1.size\n",
    "n2 = group2.size\n",
    "mean1 = group1.mean()\n",
    "mean2 = group2.mean()\n",
    "var1 = group1.var()\n",
    "var2 = group2.var()\n",
    "\n",
    "# Perform a two-sample T-test\n",
    "varpool = ((n1-1)*var1 + (n2-1)*var2)/(n1 + n2 - 2) #pool the variance estimates (since we presume equal variance)\n",
    "t_stat = (mean1-mean2)/(np.sqrt(varpool * (1/n1 + 1/n2))) #calculate the T-statistic\n",
    "p_value = 2*st.t.cdf(-np.abs(t_stat),n1+n2-2) #calculate the p-value using a T-distribution with n1+n2-2 degrees-of-freedom\n",
    "print(f\"T-statistic: {t_stat}, P-value: {p_value}\") #output the T-statistic and p-value\n",
    "if p_value < significance_level:\n",
    "    print('Reject the null hypothesis at a significance level of ' + str(significance_level) + '.')\n",
    "else:\n",
    "    print('Fall to reject the null hypothesis at a significance level of ' + str(significance_level) + '.')"
   ]
  },
  {
   "cell_type": "code",
   "execution_count": 38,
   "metadata": {},
   "outputs": [
    {
     "name": "stdout",
     "output_type": "stream",
     "text": [
      "T-statistic: 1.5635386287332487, P-value: 0.13892566957970495\n",
      "Fall to reject the null hypothesis at a significance level of 0.05.\n"
     ]
    }
   ],
   "source": [
    "group1 = survey_df[survey_df['major'] == 'CE']['Dune'].dropna()\n",
    "group2 = survey_df[survey_df['major'] == 'EE']['Dune'].dropna()\n",
    "# Perform a two-sample T-test\n",
    "t_stat, p_value = st.ttest_ind(group1, group2, equal_var=False)\n",
    "print(f\"T-statistic: {t_stat}, P-value: {p_value}\")\n",
    "if p_value < significance_level:\n",
    "    print('Reject the null hypothesis at a significance level of ' + str(significance_level) + '.')\n",
    "else:\n",
    "    print('Fall to reject the null hypothesis at a significance level of ' + str(significance_level) + '.')"
   ]
  },
  {
   "cell_type": "markdown",
   "metadata": {},
   "source": [
    "---\n",
    "####  L10.3 Pick one of the movies from the survey and use the data in that column for the following questions.\n",
    "#### (a) Which major gave your movie the highest average rating? Which major gave the lowest average rating?\n",
    "\n",
    "#### Major with Highest Mean: CE\n",
    "#### Major with Lowest Mean: EE\n",
    "\n",
    "#### (b) Now, construct a significance test to determine if the difference between the highest and lowest mean you found in part (a) are statistically signifcant. Be sure to decide your significance in advance, before looking at the p-value.\n",
    "\n",
    "#### Significance Level = 0.05\n",
    "#### Type of Significance Test (including whether variances are equal): Two-sample T-test with unequal variances\n",
    "#### p-value = 0.1389\n",
    "#### Decision: Fail to reject the null hypothesis at a significance level of 0.05.\n",
    "---"
   ]
  },
  {
   "cell_type": "markdown",
   "metadata": {},
   "source": [
    "Let's try to examine all of the movie ratings simultaneously (without paying attention to the major). We could compute the means and confidence intervals ourselves, and then make a plot, or we could use `sns.barplot` to achieve this directly. One issue is that `sns.barplot` will not accept the data in its current format so we need to collapse or `melt` the data into a two-format, as we have done below."
   ]
  },
  {
   "cell_type": "code",
   "execution_count": 44,
   "metadata": {},
   "outputs": [
    {
     "data": {
      "text/html": [
       "<div>\n",
       "<style scoped>\n",
       "    .dataframe tbody tr th:only-of-type {\n",
       "        vertical-align: middle;\n",
       "    }\n",
       "\n",
       "    .dataframe tbody tr th {\n",
       "        vertical-align: top;\n",
       "    }\n",
       "\n",
       "    .dataframe thead th {\n",
       "        text-align: right;\n",
       "    }\n",
       "</style>\n",
       "<table border=\"1\" class=\"dataframe\">\n",
       "  <thead>\n",
       "    <tr style=\"text-align: right;\">\n",
       "      <th></th>\n",
       "      <th>Movie</th>\n",
       "      <th>Rating</th>\n",
       "    </tr>\n",
       "  </thead>\n",
       "  <tbody>\n",
       "    <tr>\n",
       "      <th>0</th>\n",
       "      <td>Avengers: Endgame</td>\n",
       "      <td>5.0</td>\n",
       "    </tr>\n",
       "    <tr>\n",
       "      <th>1</th>\n",
       "      <td>Avengers: Endgame</td>\n",
       "      <td>1.0</td>\n",
       "    </tr>\n",
       "    <tr>\n",
       "      <th>2</th>\n",
       "      <td>Avengers: Endgame</td>\n",
       "      <td>NaN</td>\n",
       "    </tr>\n",
       "    <tr>\n",
       "      <th>3</th>\n",
       "      <td>Avengers: Endgame</td>\n",
       "      <td>NaN</td>\n",
       "    </tr>\n",
       "    <tr>\n",
       "      <th>4</th>\n",
       "      <td>Avengers: Endgame</td>\n",
       "      <td>4.0</td>\n",
       "    </tr>\n",
       "    <tr>\n",
       "      <th>...</th>\n",
       "      <td>...</td>\n",
       "      <td>...</td>\n",
       "    </tr>\n",
       "    <tr>\n",
       "      <th>4940</th>\n",
       "      <td>To All The Boys I've Loved</td>\n",
       "      <td>NaN</td>\n",
       "    </tr>\n",
       "    <tr>\n",
       "      <th>4941</th>\n",
       "      <td>To All The Boys I've Loved</td>\n",
       "      <td>NaN</td>\n",
       "    </tr>\n",
       "    <tr>\n",
       "      <th>4942</th>\n",
       "      <td>To All The Boys I've Loved</td>\n",
       "      <td>NaN</td>\n",
       "    </tr>\n",
       "    <tr>\n",
       "      <th>4943</th>\n",
       "      <td>To All The Boys I've Loved</td>\n",
       "      <td>NaN</td>\n",
       "    </tr>\n",
       "    <tr>\n",
       "      <th>4944</th>\n",
       "      <td>To All The Boys I've Loved</td>\n",
       "      <td>NaN</td>\n",
       "    </tr>\n",
       "  </tbody>\n",
       "</table>\n",
       "<p>4945 rows × 2 columns</p>\n",
       "</div>"
      ],
      "text/plain": [
       "                           Movie  Rating\n",
       "0              Avengers: Endgame     5.0\n",
       "1              Avengers: Endgame     1.0\n",
       "2              Avengers: Endgame     NaN\n",
       "3              Avengers: Endgame     NaN\n",
       "4              Avengers: Endgame     4.0\n",
       "...                          ...     ...\n",
       "4940  To All The Boys I've Loved     NaN\n",
       "4941  To All The Boys I've Loved     NaN\n",
       "4942  To All The Boys I've Loved     NaN\n",
       "4943  To All The Boys I've Loved     NaN\n",
       "4944  To All The Boys I've Loved     NaN\n",
       "\n",
       "[4945 rows x 2 columns]"
      ]
     },
     "execution_count": 44,
     "metadata": {},
     "output_type": "execute_result"
    }
   ],
   "source": [
    "movies_df = survey_df.iloc[:,3:] #Extract only the movie columns\n",
    "movies_melt_df = movies_df.melt(var_name='Movie', value_name='Rating') #Put the movie data into a two-column format\n",
    "movies_melt_df['Rating'] = pd.to_numeric(movies_melt_df['Rating'], errors='coerce') #Ensure data is numeric\n",
    "movies_melt_df"
   ]
  },
  {
   "cell_type": "markdown",
   "metadata": {},
   "source": [
    "---\n",
    "#### 10.4 Now, create a barplot for the mean movie ratings with a 95% confidence interval. Note that the movie titles will collide if you simply take `x=\"Movie\"` and `y=\"Rating\"`. Here are two workarounds, choose your favorite:\n",
    "1. Rotate the titles on the x-axis by 45 degress via `plt.xticks(rotation=45,ha='right')`\n",
    "2. Plot the movie titles on the y-axis and the ratings on the x-axis instead.\n",
    "--- "
   ]
  },
  {
   "cell_type": "code",
   "execution_count": 47,
   "metadata": {},
   "outputs": [
    {
     "data": {
      "text/plain": [
       "<Axes: xlabel='Rating', ylabel='Movie'>"
      ]
     },
     "execution_count": 47,
     "metadata": {},
     "output_type": "execute_result"
    },
    {
     "data": {
      "image/png": "[encoded data removed]",
      "text/plain": [
       "<Figure size 640x480 with 1 Axes>"
      ]
     },
     "metadata": {},
     "output_type": "display_data"
    }
   ],
   "source": [
    "plt.xticks(rotation=45,ha='right')\n",
    "sns.barplot(data=movies_melt_df,x='Rating',y='Movie',hue='Movie',errorbar=('ci',95))"
   ]
  },
  {
   "cell_type": "markdown",
   "metadata": {},
   "source": [
    "---\n",
    "#### 10.5 From the plot, it is hard to visually discern the ranking of the movies by average rating. How can we sort by average rating? First we need to create a sorting order via `sorting_order = movies_melt_df.groupby('Movie')['Rating'].mean().sort_values().index` and then we can pass this to `sns.barplot` via the parameter `order = sorting_order`. Go ahead and generate another bar plot using this sorting, and then report the movie with the highest mean rating and the movie with the lowest mean rating:\n",
    "\n",
    "#### Highest-rated movie: My Neighbor Totoro\n",
    "#### Lowest-rated movie: Poor Things\n",
    "--- "
   ]
  },
  {
   "cell_type": "code",
   "execution_count": 48,
   "metadata": {},
   "outputs": [
    {
     "data": {
      "text/plain": [
       "<Axes: xlabel='Rating', ylabel='Movie'>"
      ]
     },
     "execution_count": 48,
     "metadata": {},
     "output_type": "execute_result"
    },
    {
     "data": {
      "image/png": "[encoded data removed]",
      "text/plain": [
       "<Figure size 640x480 with 1 Axes>"
      ]
     },
     "metadata": {},
     "output_type": "display_data"
    }
   ],
   "source": [
    "plt.xticks(rotation=45,ha='right')\n",
    "sorting_order = movies_melt_df.groupby('Movie')['Rating'].mean().sort_values().index\n",
    "sns.barplot(data=movies_melt_df,x='Rating',y='Movie',hue='Movie',errorbar=('ci',95),order = sorting_order)"
   ]
  },
  {
   "cell_type": "markdown",
   "metadata": {},
   "source": [
    "The code below calculates the p-value for a significance test between the mean of `target_movie` and all other movies in the dataset. It returns a dataframe containing all of the p-values, followed by a subset of this dataframe containing all movies whose p-value falls below the pre-set significance level. We would like to be able to claim that the difference between the mean rating for each of these movies and the mean rating of the target rating is statistically significant. (This could be due to either a higher rating or a lower rating.)"
   ]
  },
  {
   "cell_type": "code",
   "execution_count": 49,
   "metadata": {},
   "outputs": [
    {
     "name": "stdout",
     "output_type": "stream",
     "text": [
      "P-values compared to The Matrix, which has mean rating 4.127272727272727.\n"
     ]
    },
    {
     "data": {
      "text/html": [
       "<div>\n",
       "<style scoped>\n",
       "    .dataframe tbody tr th:only-of-type {\n",
       "        vertical-align: middle;\n",
       "    }\n",
       "\n",
       "    .dataframe tbody tr th {\n",
       "        vertical-align: top;\n",
       "    }\n",
       "\n",
       "    .dataframe thead th {\n",
       "        text-align: right;\n",
       "    }\n",
       "</style>\n",
       "<table border=\"1\" class=\"dataframe\">\n",
       "  <thead>\n",
       "    <tr style=\"text-align: right;\">\n",
       "      <th></th>\n",
       "      <th>Movie</th>\n",
       "      <th>Mean Rating</th>\n",
       "      <th>P-Value</th>\n",
       "    </tr>\n",
       "  </thead>\n",
       "  <tbody>\n",
       "    <tr>\n",
       "      <th>0</th>\n",
       "      <td>Avengers: Endgame</td>\n",
       "      <td>4.335329</td>\n",
       "      <td>0.127997</td>\n",
       "    </tr>\n",
       "    <tr>\n",
       "      <th>1</th>\n",
       "      <td>Back to the Future</td>\n",
       "      <td>4.063492</td>\n",
       "      <td>0.692564</td>\n",
       "    </tr>\n",
       "    <tr>\n",
       "      <th>2</th>\n",
       "      <td>Barbie</td>\n",
       "      <td>3.987342</td>\n",
       "      <td>0.322658</td>\n",
       "    </tr>\n",
       "    <tr>\n",
       "      <th>3</th>\n",
       "      <td>Booksmart</td>\n",
       "      <td>3.906250</td>\n",
       "      <td>0.291434</td>\n",
       "    </tr>\n",
       "    <tr>\n",
       "      <th>4</th>\n",
       "      <td>Deadpool and Wolverine</td>\n",
       "      <td>4.223684</td>\n",
       "      <td>0.563597</td>\n",
       "    </tr>\n",
       "    <tr>\n",
       "      <th>5</th>\n",
       "      <td>Die Hard</td>\n",
       "      <td>4.025974</td>\n",
       "      <td>0.493059</td>\n",
       "    </tr>\n",
       "    <tr>\n",
       "      <th>6</th>\n",
       "      <td>Dune</td>\n",
       "      <td>4.109091</td>\n",
       "      <td>0.901335</td>\n",
       "    </tr>\n",
       "    <tr>\n",
       "      <th>7</th>\n",
       "      <td>Encanto</td>\n",
       "      <td>3.866667</td>\n",
       "      <td>0.068668</td>\n",
       "    </tr>\n",
       "    <tr>\n",
       "      <th>8</th>\n",
       "      <td>Everything Everywhere All at Once</td>\n",
       "      <td>4.263158</td>\n",
       "      <td>0.376256</td>\n",
       "    </tr>\n",
       "    <tr>\n",
       "      <th>9</th>\n",
       "      <td>Get Out</td>\n",
       "      <td>4.189189</td>\n",
       "      <td>0.723619</td>\n",
       "    </tr>\n",
       "    <tr>\n",
       "      <th>10</th>\n",
       "      <td>Inside Out 2</td>\n",
       "      <td>4.042553</td>\n",
       "      <td>0.619584</td>\n",
       "    </tr>\n",
       "    <tr>\n",
       "      <th>11</th>\n",
       "      <td>Interstellar</td>\n",
       "      <td>4.468750</td>\n",
       "      <td>0.038358</td>\n",
       "    </tr>\n",
       "    <tr>\n",
       "      <th>12</th>\n",
       "      <td>Jurassic Park</td>\n",
       "      <td>3.938272</td>\n",
       "      <td>0.208425</td>\n",
       "    </tr>\n",
       "    <tr>\n",
       "      <th>13</th>\n",
       "      <td>Knives Out</td>\n",
       "      <td>4.266667</td>\n",
       "      <td>0.383696</td>\n",
       "    </tr>\n",
       "    <tr>\n",
       "      <th>14</th>\n",
       "      <td>Lady Bird</td>\n",
       "      <td>3.869565</td>\n",
       "      <td>0.260414</td>\n",
       "    </tr>\n",
       "    <tr>\n",
       "      <th>15</th>\n",
       "      <td>Mad Max: Fury Road</td>\n",
       "      <td>4.136364</td>\n",
       "      <td>0.971338</td>\n",
       "    </tr>\n",
       "    <tr>\n",
       "      <th>16</th>\n",
       "      <td>My Neighbor Totoro</td>\n",
       "      <td>4.600000</td>\n",
       "      <td>0.001803</td>\n",
       "    </tr>\n",
       "    <tr>\n",
       "      <th>17</th>\n",
       "      <td>Oppenheimer</td>\n",
       "      <td>4.229508</td>\n",
       "      <td>0.577667</td>\n",
       "    </tr>\n",
       "    <tr>\n",
       "      <th>18</th>\n",
       "      <td>Poor Things</td>\n",
       "      <td>3.300000</td>\n",
       "      <td>0.087787</td>\n",
       "    </tr>\n",
       "    <tr>\n",
       "      <th>19</th>\n",
       "      <td>Spider-Man: Into the Spiderverse</td>\n",
       "      <td>4.589744</td>\n",
       "      <td>0.001160</td>\n",
       "    </tr>\n",
       "    <tr>\n",
       "      <th>20</th>\n",
       "      <td>Star Wars: A New Hope</td>\n",
       "      <td>3.983607</td>\n",
       "      <td>0.427021</td>\n",
       "    </tr>\n",
       "    <tr>\n",
       "      <th>21</th>\n",
       "      <td>To All The Boys I've Loved</td>\n",
       "      <td>3.387755</td>\n",
       "      <td>0.000219</td>\n",
       "    </tr>\n",
       "  </tbody>\n",
       "</table>\n",
       "</div>"
      ],
      "text/plain": [
       "                                Movie  Mean Rating   P-Value\n",
       "0                   Avengers: Endgame     4.335329  0.127997\n",
       "1                  Back to the Future     4.063492  0.692564\n",
       "2                              Barbie     3.987342  0.322658\n",
       "3                           Booksmart     3.906250  0.291434\n",
       "4              Deadpool and Wolverine     4.223684  0.563597\n",
       "5                            Die Hard     4.025974  0.493059\n",
       "6                                Dune     4.109091  0.901335\n",
       "7                             Encanto     3.866667  0.068668\n",
       "8   Everything Everywhere All at Once     4.263158  0.376256\n",
       "9                             Get Out     4.189189  0.723619\n",
       "10                       Inside Out 2     4.042553  0.619584\n",
       "11                       Interstellar     4.468750  0.038358\n",
       "12                      Jurassic Park     3.938272  0.208425\n",
       "13                         Knives Out     4.266667  0.383696\n",
       "14                          Lady Bird     3.869565  0.260414\n",
       "15                 Mad Max: Fury Road     4.136364  0.971338\n",
       "16                 My Neighbor Totoro     4.600000  0.001803\n",
       "17                        Oppenheimer     4.229508  0.577667\n",
       "18                        Poor Things     3.300000  0.087787\n",
       "19   Spider-Man: Into the Spiderverse     4.589744  0.001160\n",
       "20              Star Wars: A New Hope     3.983607  0.427021\n",
       "21         To All The Boys I've Loved     3.387755  0.000219"
      ]
     },
     "metadata": {},
     "output_type": "display_data"
    },
    {
     "name": "stdout",
     "output_type": "stream",
     "text": [
      "For the following movies, we reject the null hypothesis that the mean rating is equal to that of The Matrix at a significance level of 0.05.\n"
     ]
    },
    {
     "data": {
      "text/html": [
       "<div>\n",
       "<style scoped>\n",
       "    .dataframe tbody tr th:only-of-type {\n",
       "        vertical-align: middle;\n",
       "    }\n",
       "\n",
       "    .dataframe tbody tr th {\n",
       "        vertical-align: top;\n",
       "    }\n",
       "\n",
       "    .dataframe thead th {\n",
       "        text-align: right;\n",
       "    }\n",
       "</style>\n",
       "<table border=\"1\" class=\"dataframe\">\n",
       "  <thead>\n",
       "    <tr style=\"text-align: right;\">\n",
       "      <th></th>\n",
       "      <th>Movie</th>\n",
       "      <th>Mean Rating</th>\n",
       "      <th>P-Value</th>\n",
       "    </tr>\n",
       "  </thead>\n",
       "  <tbody>\n",
       "    <tr>\n",
       "      <th>11</th>\n",
       "      <td>Interstellar</td>\n",
       "      <td>4.468750</td>\n",
       "      <td>0.038358</td>\n",
       "    </tr>\n",
       "    <tr>\n",
       "      <th>16</th>\n",
       "      <td>My Neighbor Totoro</td>\n",
       "      <td>4.600000</td>\n",
       "      <td>0.001803</td>\n",
       "    </tr>\n",
       "    <tr>\n",
       "      <th>19</th>\n",
       "      <td>Spider-Man: Into the Spiderverse</td>\n",
       "      <td>4.589744</td>\n",
       "      <td>0.001160</td>\n",
       "    </tr>\n",
       "    <tr>\n",
       "      <th>21</th>\n",
       "      <td>To All The Boys I've Loved</td>\n",
       "      <td>3.387755</td>\n",
       "      <td>0.000219</td>\n",
       "    </tr>\n",
       "  </tbody>\n",
       "</table>\n",
       "</div>"
      ],
      "text/plain": [
       "                               Movie  Mean Rating   P-Value\n",
       "11                      Interstellar     4.468750  0.038358\n",
       "16                My Neighbor Totoro     4.600000  0.001803\n",
       "19  Spider-Man: Into the Spiderverse     4.589744  0.001160\n",
       "21        To All The Boys I've Loved     3.387755  0.000219"
      ]
     },
     "execution_count": 49,
     "metadata": {},
     "output_type": "execute_result"
    }
   ],
   "source": [
    "# Set the target movie\n",
    "target_movie = \"The Matrix\"  # Replace with the name of the target movie\n",
    "# Choose the significance level\n",
    "significance_level = 0.05 \n",
    "# Filter ratings for the target movie\n",
    "target_ratings = movies_melt_df[movies_melt_df['Movie'] == target_movie]['Rating'].dropna()\n",
    "# Initialize a list to store p-values\n",
    "p_values_list = []\n",
    "# Get array of movies\n",
    "movies_array = movies_melt_df['Movie'].unique()\n",
    "\n",
    "# Calculate p-values for each movie\n",
    "for movie in movies_array:\n",
    "    if movie != target_movie:  # Skip comparison with the target movie itself\n",
    "        other_ratings = movies_melt_df[movies_melt_df['Movie'] == movie]['Rating'].dropna()\n",
    "        # Perform t-test\n",
    "        t_stat, p_value = st.ttest_ind(target_ratings, other_ratings, equal_var=False)  # Welch's t-test\n",
    "        # Store the result\n",
    "        p_values_list.append({'Movie': movie, 'Mean Rating': other_ratings.mean(), 'P-Value': p_value})\n",
    "\n",
    "p_values_df = pd.DataFrame(p_values_list)\n",
    "print('P-values compared to ' + str(target_movie) + ', which has mean rating ' + str(target_ratings.mean()) + '.')\n",
    "display(p_values_df)\n",
    "reject_null_df = p_values_df[p_values_df[\"P-Value\"] < significance_level]\n",
    "print('For the following movies, we reject the null hypothesis that the mean rating is equal to that of ' + str(target_movie) + ' at a significance level of ' + str(significance_level) + '.')\n",
    "reject_null_df"
   ]
  },
  {
   "cell_type": "markdown",
   "metadata": {},
   "source": [
    "One issue with the procedure above is that we are running multiple significance tests simultaneously. Therefore, if we simply compare movies with the desired significance level, we cannot claim that our final list of movies has the desired significance level. There are many ways to get around this issue, most of which are beyond the scope of our class. (Here is an [xkcd comic strip](https://xkcd.com/882/) that refers to this issue.) However, there is a simple (but overly cautious) fix that we can learn now. Instead of using the desired significance level $\\alpha$, we should compare each movie to the **Bonferroni-corrected** significance level $\\alpha_{\\text{corrected}} = \\displaystyle \\frac{\\alpha}{\\# \\text{significance tests}}$. (In our setting, the number of significance tests is equal to the number of movies, minus 1.) By using this more conservative significance level for each individual significance test, we can certify that our overall set of decisions has the desired significance level $\\alpha$. "
   ]
  },
  {
   "cell_type": "markdown",
   "metadata": {},
   "source": [
    "---\n",
    "#### 10.6 Modify the code above to make individual comparisons using the Bonferroni-corrected significance level. Select a movie as the target movie, set the overall significance level to 0.05, and determine the list of movies that have significantly different mean ratings from your selection.\n",
    "\n",
    "#### Bonferroni-corrected significance level = 0.0023\n",
    "#### Choice of target movie = The Matrix\n",
    "#### List of movies that have significantly different mean ratings at significance level 0.05 = My Neighbor Totoro, Spider-Man: Into the Spiderverse, To All The Boys I've Loved\n",
    "--- "
   ]
  },
  {
   "cell_type": "code",
   "execution_count": 50,
   "metadata": {},
   "outputs": [
    {
     "name": "stdout",
     "output_type": "stream",
     "text": [
      "P-values compared to The Matrix, which has mean rating 4.127272727272727.\n"
     ]
    },
    {
     "data": {
      "text/html": [
       "<div>\n",
       "<style scoped>\n",
       "    .dataframe tbody tr th:only-of-type {\n",
       "        vertical-align: middle;\n",
       "    }\n",
       "\n",
       "    .dataframe tbody tr th {\n",
       "        vertical-align: top;\n",
       "    }\n",
       "\n",
       "    .dataframe thead th {\n",
       "        text-align: right;\n",
       "    }\n",
       "</style>\n",
       "<table border=\"1\" class=\"dataframe\">\n",
       "  <thead>\n",
       "    <tr style=\"text-align: right;\">\n",
       "      <th></th>\n",
       "      <th>Movie</th>\n",
       "      <th>Mean Rating</th>\n",
       "      <th>P-Value</th>\n",
       "    </tr>\n",
       "  </thead>\n",
       "  <tbody>\n",
       "    <tr>\n",
       "      <th>0</th>\n",
       "      <td>Avengers: Endgame</td>\n",
       "      <td>4.335329</td>\n",
       "      <td>0.127997</td>\n",
       "    </tr>\n",
       "    <tr>\n",
       "      <th>1</th>\n",
       "      <td>Back to the Future</td>\n",
       "      <td>4.063492</td>\n",
       "      <td>0.692564</td>\n",
       "    </tr>\n",
       "    <tr>\n",
       "      <th>2</th>\n",
       "      <td>Barbie</td>\n",
       "      <td>3.987342</td>\n",
       "      <td>0.322658</td>\n",
       "    </tr>\n",
       "    <tr>\n",
       "      <th>3</th>\n",
       "      <td>Booksmart</td>\n",
       "      <td>3.906250</td>\n",
       "      <td>0.291434</td>\n",
       "    </tr>\n",
       "    <tr>\n",
       "      <th>4</th>\n",
       "      <td>Deadpool and Wolverine</td>\n",
       "      <td>4.223684</td>\n",
       "      <td>0.563597</td>\n",
       "    </tr>\n",
       "    <tr>\n",
       "      <th>5</th>\n",
       "      <td>Die Hard</td>\n",
       "      <td>4.025974</td>\n",
       "      <td>0.493059</td>\n",
       "    </tr>\n",
       "    <tr>\n",
       "      <th>6</th>\n",
       "      <td>Dune</td>\n",
       "      <td>4.109091</td>\n",
       "      <td>0.901335</td>\n",
       "    </tr>\n",
       "    <tr>\n",
       "      <th>7</th>\n",
       "      <td>Encanto</td>\n",
       "      <td>3.866667</td>\n",
       "      <td>0.068668</td>\n",
       "    </tr>\n",
       "    <tr>\n",
       "      <th>8</th>\n",
       "      <td>Everything Everywhere All at Once</td>\n",
       "      <td>4.263158</td>\n",
       "      <td>0.376256</td>\n",
       "    </tr>\n",
       "    <tr>\n",
       "      <th>9</th>\n",
       "      <td>Get Out</td>\n",
       "      <td>4.189189</td>\n",
       "      <td>0.723619</td>\n",
       "    </tr>\n",
       "    <tr>\n",
       "      <th>10</th>\n",
       "      <td>Inside Out 2</td>\n",
       "      <td>4.042553</td>\n",
       "      <td>0.619584</td>\n",
       "    </tr>\n",
       "    <tr>\n",
       "      <th>11</th>\n",
       "      <td>Interstellar</td>\n",
       "      <td>4.468750</td>\n",
       "      <td>0.038358</td>\n",
       "    </tr>\n",
       "    <tr>\n",
       "      <th>12</th>\n",
       "      <td>Jurassic Park</td>\n",
       "      <td>3.938272</td>\n",
       "      <td>0.208425</td>\n",
       "    </tr>\n",
       "    <tr>\n",
       "      <th>13</th>\n",
       "      <td>Knives Out</td>\n",
       "      <td>4.266667</td>\n",
       "      <td>0.383696</td>\n",
       "    </tr>\n",
       "    <tr>\n",
       "      <th>14</th>\n",
       "      <td>Lady Bird</td>\n",
       "      <td>3.869565</td>\n",
       "      <td>0.260414</td>\n",
       "    </tr>\n",
       "    <tr>\n",
       "      <th>15</th>\n",
       "      <td>Mad Max: Fury Road</td>\n",
       "      <td>4.136364</td>\n",
       "      <td>0.971338</td>\n",
       "    </tr>\n",
       "    <tr>\n",
       "      <th>16</th>\n",
       "      <td>My Neighbor Totoro</td>\n",
       "      <td>4.600000</td>\n",
       "      <td>0.001803</td>\n",
       "    </tr>\n",
       "    <tr>\n",
       "      <th>17</th>\n",
       "      <td>Oppenheimer</td>\n",
       "      <td>4.229508</td>\n",
       "      <td>0.577667</td>\n",
       "    </tr>\n",
       "    <tr>\n",
       "      <th>18</th>\n",
       "      <td>Poor Things</td>\n",
       "      <td>3.300000</td>\n",
       "      <td>0.087787</td>\n",
       "    </tr>\n",
       "    <tr>\n",
       "      <th>19</th>\n",
       "      <td>Spider-Man: Into the Spiderverse</td>\n",
       "      <td>4.589744</td>\n",
       "      <td>0.001160</td>\n",
       "    </tr>\n",
       "    <tr>\n",
       "      <th>20</th>\n",
       "      <td>Star Wars: A New Hope</td>\n",
       "      <td>3.983607</td>\n",
       "      <td>0.427021</td>\n",
       "    </tr>\n",
       "    <tr>\n",
       "      <th>21</th>\n",
       "      <td>To All The Boys I've Loved</td>\n",
       "      <td>3.387755</td>\n",
       "      <td>0.000219</td>\n",
       "    </tr>\n",
       "  </tbody>\n",
       "</table>\n",
       "</div>"
      ],
      "text/plain": [
       "                                Movie  Mean Rating   P-Value\n",
       "0                   Avengers: Endgame     4.335329  0.127997\n",
       "1                  Back to the Future     4.063492  0.692564\n",
       "2                              Barbie     3.987342  0.322658\n",
       "3                           Booksmart     3.906250  0.291434\n",
       "4              Deadpool and Wolverine     4.223684  0.563597\n",
       "5                            Die Hard     4.025974  0.493059\n",
       "6                                Dune     4.109091  0.901335\n",
       "7                             Encanto     3.866667  0.068668\n",
       "8   Everything Everywhere All at Once     4.263158  0.376256\n",
       "9                             Get Out     4.189189  0.723619\n",
       "10                       Inside Out 2     4.042553  0.619584\n",
       "11                       Interstellar     4.468750  0.038358\n",
       "12                      Jurassic Park     3.938272  0.208425\n",
       "13                         Knives Out     4.266667  0.383696\n",
       "14                          Lady Bird     3.869565  0.260414\n",
       "15                 Mad Max: Fury Road     4.136364  0.971338\n",
       "16                 My Neighbor Totoro     4.600000  0.001803\n",
       "17                        Oppenheimer     4.229508  0.577667\n",
       "18                        Poor Things     3.300000  0.087787\n",
       "19   Spider-Man: Into the Spiderverse     4.589744  0.001160\n",
       "20              Star Wars: A New Hope     3.983607  0.427021\n",
       "21         To All The Boys I've Loved     3.387755  0.000219"
      ]
     },
     "metadata": {},
     "output_type": "display_data"
    },
    {
     "name": "stdout",
     "output_type": "stream",
     "text": [
      "For the following movies, we reject the null hypothesis that the mean rating is equal to that of The Matrix at a significance level of 0.002272727272727273.\n"
     ]
    },
    {
     "data": {
      "text/html": [
       "<div>\n",
       "<style scoped>\n",
       "    .dataframe tbody tr th:only-of-type {\n",
       "        vertical-align: middle;\n",
       "    }\n",
       "\n",
       "    .dataframe tbody tr th {\n",
       "        vertical-align: top;\n",
       "    }\n",
       "\n",
       "    .dataframe thead th {\n",
       "        text-align: right;\n",
       "    }\n",
       "</style>\n",
       "<table border=\"1\" class=\"dataframe\">\n",
       "  <thead>\n",
       "    <tr style=\"text-align: right;\">\n",
       "      <th></th>\n",
       "      <th>Movie</th>\n",
       "      <th>Mean Rating</th>\n",
       "      <th>P-Value</th>\n",
       "    </tr>\n",
       "  </thead>\n",
       "  <tbody>\n",
       "    <tr>\n",
       "      <th>16</th>\n",
       "      <td>My Neighbor Totoro</td>\n",
       "      <td>4.600000</td>\n",
       "      <td>0.001803</td>\n",
       "    </tr>\n",
       "    <tr>\n",
       "      <th>19</th>\n",
       "      <td>Spider-Man: Into the Spiderverse</td>\n",
       "      <td>4.589744</td>\n",
       "      <td>0.001160</td>\n",
       "    </tr>\n",
       "    <tr>\n",
       "      <th>21</th>\n",
       "      <td>To All The Boys I've Loved</td>\n",
       "      <td>3.387755</td>\n",
       "      <td>0.000219</td>\n",
       "    </tr>\n",
       "  </tbody>\n",
       "</table>\n",
       "</div>"
      ],
      "text/plain": [
       "                               Movie  Mean Rating   P-Value\n",
       "16                My Neighbor Totoro     4.600000  0.001803\n",
       "19  Spider-Man: Into the Spiderverse     4.589744  0.001160\n",
       "21        To All The Boys I've Loved     3.387755  0.000219"
      ]
     },
     "execution_count": 50,
     "metadata": {},
     "output_type": "execute_result"
    }
   ],
   "source": [
    "# Set the target movie\n",
    "target_movie = \"The Matrix\"  # Replace with the name of the target movie\n",
    "# Choose the significance level\n",
    "significance_level = 0.05 / 22\n",
    "# Filter ratings for the target movie\n",
    "target_ratings = movies_melt_df[movies_melt_df['Movie'] == target_movie]['Rating'].dropna()\n",
    "# Initialize a list to store p-values\n",
    "p_values_list = []\n",
    "# Get array of movies\n",
    "movies_array = movies_melt_df['Movie'].unique()\n",
    "\n",
    "# Calculate p-values for each movie\n",
    "for movie in movies_array:\n",
    "    if movie != target_movie:  # Skip comparison with the target movie itself\n",
    "        other_ratings = movies_melt_df[movies_melt_df['Movie'] == movie]['Rating'].dropna()\n",
    "        # Perform t-test\n",
    "        t_stat, p_value = st.ttest_ind(target_ratings, other_ratings, equal_var=False)  # Welch's t-test\n",
    "        # Store the result\n",
    "        p_values_list.append({'Movie': movie, 'Mean Rating': other_ratings.mean(), 'P-Value': p_value})\n",
    "\n",
    "p_values_df = pd.DataFrame(p_values_list)\n",
    "print('P-values compared to ' + str(target_movie) + ', which has mean rating ' + str(target_ratings.mean()) + '.')\n",
    "display(p_values_df)\n",
    "reject_null_df = p_values_df[p_values_df[\"P-Value\"] < significance_level]\n",
    "print('For the following movies, we reject the null hypothesis that the mean rating is equal to that of ' + str(target_movie) + ' at a significance level of ' + str(significance_level) + '.')\n",
    "reject_null_df"
   ]
  }
 ],
 "metadata": {
  "kernelspec": {
   "display_name": "Python 3 (ipykernel)",
   "language": "python",
   "name": "python3"
  },
  "language_info": {
   "codemirror_mode": {
    "name": "ipython",
    "version": 3
   },
   "file_extension": ".py",
   "mimetype": "text/x-python",
   "name": "python",
   "nbconvert_exporter": "python",
   "pygments_lexer": "ipython3",
   "version": "3.11.7"
  }
 },
 "nbformat": 4,
 "nbformat_minor": 4
}
