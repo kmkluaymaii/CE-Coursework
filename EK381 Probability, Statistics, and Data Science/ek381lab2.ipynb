{
 "cells": [
  {
   "cell_type": "markdown",
   "metadata": {},
   "source": [
    "# EK381 Exploratory Data Analysis <br> Lab 2: Histograms"
   ]
  },
  {
   "cell_type": "markdown",
   "metadata": {},
   "source": [
    "### This lab was completed by Rawisara Chairat."
   ]
  },
  {
   "cell_type": "markdown",
   "metadata": {},
   "source": [
    "Before we get to our dataset, we always need to load the necessary libraries with the \"import\" command. You'll also  notice that libraries are often imported using an abbreviated name via the \"as\" command. You can use any shorthand you prefer, but the assignments will stick to commonly-accepted abbreviations."
   ]
  },
  {
   "cell_type": "code",
   "execution_count": 1,
   "metadata": {},
   "outputs": [],
   "source": [
    "#Numpy is a package for working with arrays, linear algebra, etc. and stands for \"numerical Python\".\n",
    "import numpy as np\n",
    "#Pandas is a package for working with data frames.\n",
    "import pandas as pd\n",
    "#Matplotlib is a plotting library that mimics Matlab conventions.\n",
    "import matplotlib.pyplot as plt\n",
    "#Seaborn is a data visualization package.\n",
    "import seaborn as sns"
   ]
  },
  {
   "cell_type": "markdown",
   "metadata": {},
   "source": [
    "In the last lab, we used a pandas dataframe to generate statistics and plots for the penguins dataset. In this lab, we will start by building a dataframe from scratch, so we can have a better wunderstanding going forward. The commands below create a simple dataframe with fictional data on whether a given day is sunny or rainy as well as whether the BU bridge has traffic or not."
   ]
  },
  {
   "cell_type": "code",
   "execution_count": 2,
   "metadata": {},
   "outputs": [
    {
     "data": {
      "text/html": [
       "<div>\n",
       "<style scoped>\n",
       "    .dataframe tbody tr th:only-of-type {\n",
       "        vertical-align: middle;\n",
       "    }\n",
       "\n",
       "    .dataframe tbody tr th {\n",
       "        vertical-align: top;\n",
       "    }\n",
       "\n",
       "    .dataframe thead th {\n",
       "        text-align: right;\n",
       "    }\n",
       "</style>\n",
       "<table border=\"1\" class=\"dataframe\">\n",
       "  <thead>\n",
       "    <tr style=\"text-align: right;\">\n",
       "      <th></th>\n",
       "      <th>Weather</th>\n",
       "      <th>Bridge Traffic</th>\n",
       "    </tr>\n",
       "  </thead>\n",
       "  <tbody>\n",
       "    <tr>\n",
       "      <th>0</th>\n",
       "      <td>sunny</td>\n",
       "      <td>no</td>\n",
       "    </tr>\n",
       "    <tr>\n",
       "      <th>1</th>\n",
       "      <td>rainy</td>\n",
       "      <td>no</td>\n",
       "    </tr>\n",
       "    <tr>\n",
       "      <th>2</th>\n",
       "      <td>rainy</td>\n",
       "      <td>yes</td>\n",
       "    </tr>\n",
       "    <tr>\n",
       "      <th>3</th>\n",
       "      <td>sunny</td>\n",
       "      <td>no</td>\n",
       "    </tr>\n",
       "    <tr>\n",
       "      <th>4</th>\n",
       "      <td>sunny</td>\n",
       "      <td>no</td>\n",
       "    </tr>\n",
       "    <tr>\n",
       "      <th>5</th>\n",
       "      <td>rainy</td>\n",
       "      <td>yes</td>\n",
       "    </tr>\n",
       "    <tr>\n",
       "      <th>6</th>\n",
       "      <td>sunny</td>\n",
       "      <td>no</td>\n",
       "    </tr>\n",
       "    <tr>\n",
       "      <th>7</th>\n",
       "      <td>sunny</td>\n",
       "      <td>yes</td>\n",
       "    </tr>\n",
       "    <tr>\n",
       "      <th>8</th>\n",
       "      <td>rainy</td>\n",
       "      <td>yes</td>\n",
       "    </tr>\n",
       "  </tbody>\n",
       "</table>\n",
       "</div>"
      ],
      "text/plain": [
       "  Weather Bridge Traffic\n",
       "0   sunny             no\n",
       "1   rainy             no\n",
       "2   rainy            yes\n",
       "3   sunny             no\n",
       "4   sunny             no\n",
       "5   rainy            yes\n",
       "6   sunny             no\n",
       "7   sunny            yes\n",
       "8   rainy            yes"
      ]
     },
     "execution_count": 2,
     "metadata": {},
     "output_type": "execute_result"
    }
   ],
   "source": [
    "weatherdf = pd.DataFrame(\n",
    "    {\"Weather\": [\"sunny\", \"rainy\", \"rainy\", \"sunny\", \"sunny\", \"rainy\", \"sunny\", \"sunny\",\"rainy\"],\n",
    "     \"Bridge Traffic\": [\"no\", \"no\", \"yes\", \"no\", \"no\", \"yes\", \"no\", \"yes\",\"yes\"]})\n",
    "weatherdf"
   ]
  },
  {
   "cell_type": "markdown",
   "metadata": {},
   "source": [
    "How many days are sunny *and* have bridge traffic? This is easy to compute with the `count_values()` command."
   ]
  },
  {
   "cell_type": "code",
   "execution_count": 3,
   "metadata": {},
   "outputs": [
    {
     "data": {
      "text/plain": [
       "Weather  Bridge Traffic\n",
       "sunny    no                4\n",
       "rainy    yes               3\n",
       "         no                1\n",
       "sunny    yes               1\n",
       "Name: count, dtype: int64"
      ]
     },
     "execution_count": 3,
     "metadata": {},
     "output_type": "execute_result"
    }
   ],
   "source": [
    "weatherdf.value_counts()"
   ]
  },
  {
   "cell_type": "markdown",
   "metadata": {},
   "source": [
    "We can read off the number of occurrences for each possible intersection of events. For instance, 4 days are sunny *and* have no bridge traffic. If we collect a sufficient amount of data, it is often reasonable to use the normalized counts as estimates of the \"true\" probabilities. We can do this by setting `normalize = True` in the `count_values()` command."
   ]
  },
  {
   "cell_type": "code",
   "execution_count": 4,
   "metadata": {},
   "outputs": [
    {
     "data": {
      "text/plain": [
       "Weather  Bridge Traffic\n",
       "sunny    no                0.444444\n",
       "rainy    yes               0.333333\n",
       "         no                0.111111\n",
       "sunny    yes               0.111111\n",
       "Name: proportion, dtype: float64"
      ]
     },
     "execution_count": 4,
     "metadata": {},
     "output_type": "execute_result"
    }
   ],
   "source": [
    "weatherdf.value_counts(normalize=True)"
   ]
  },
  {
   "cell_type": "markdown",
   "metadata": {},
   "source": [
    "In our mathematical language, let $A = \\{\\text{sunny}\\}$ and $B = \\{\\text{yes traffic}\\}$. Then, our estimates of the probabilities are $$\\hat{\\mathbb{P}}[A \\cap B] = 1/9,~~\\hat{\\mathbb{P}}[A^c \\cap B] = 3/9, ~~\\hat{\\mathbb{P}}[A \\cap B^c] = 4/9,~~\\hat{\\mathbb{P}}[A^c \\cap B^c] = 1/9 \\ .$$ (I used the \"hat\" symbol on top of $\\mathbb{P}$ to remind us these are just estimates, and we might get better estimates of the true values with more data.) Now, let's try to visualize this distribution with a bar chart. In pandas, we can usually just add `.plot()` to our command to get a plot."
   ]
  },
  {
   "cell_type": "code",
   "execution_count": 5,
   "metadata": {},
   "outputs": [
    {
     "data": {
      "text/plain": [
       "<Axes: xlabel='Weather,Bridge Traffic', ylabel='Probability'>"
      ]
     },
     "execution_count": 5,
     "metadata": {},
     "output_type": "execute_result"
    },
    {
     "data": {
      "image/png": "[encoded data removed]",
      "text/plain": [
       "<Figure size 640x480 with 1 Axes>"
      ]
     },
     "metadata": {},
     "output_type": "display_data"
    }
   ],
   "source": [
    "weatherdf.value_counts(normalize=True).plot(kind=\"bar\",ylabel = \"Probability\")"
   ]
  },
  {
   "cell_type": "markdown",
   "metadata": {},
   "source": [
    "What if we only want to work with one variable at a time? We can extract a single column from the data frame, either referring to it by its index or by its exact name. An example of each is worked out below for extracting the \"Bridge Traffic\" column.\n",
    "\n",
    "**Index:** We can use the `iloc` (index location) command, putting `:` first to indicate \"all of the rows\" and `1` next to indicate \"the second column\" since Python starts with index 0. \n",
    "\n",
    "**Column Name:** We can just put the exact name in quotes (including correct capitalization). "
   ]
  },
  {
   "cell_type": "code",
   "execution_count": 6,
   "metadata": {},
   "outputs": [
    {
     "data": {
      "text/plain": [
       "0     no\n",
       "1     no\n",
       "2    yes\n",
       "3     no\n",
       "4     no\n",
       "5    yes\n",
       "6     no\n",
       "7    yes\n",
       "8    yes\n",
       "Name: Bridge Traffic, dtype: object"
      ]
     },
     "execution_count": 6,
     "metadata": {},
     "output_type": "execute_result"
    }
   ],
   "source": [
    "weatherdf.iloc[:,1]"
   ]
  },
  {
   "cell_type": "code",
   "execution_count": 7,
   "metadata": {},
   "outputs": [
    {
     "data": {
      "text/plain": [
       "0     no\n",
       "1     no\n",
       "2    yes\n",
       "3     no\n",
       "4     no\n",
       "5    yes\n",
       "6     no\n",
       "7    yes\n",
       "8    yes\n",
       "Name: Bridge Traffic, dtype: object"
      ]
     },
     "execution_count": 7,
     "metadata": {},
     "output_type": "execute_result"
    }
   ],
   "source": [
    "weatherdf[\"Bridge Traffic\"]"
   ]
  },
  {
   "cell_type": "markdown",
   "metadata": {},
   "source": [
    "We can use the commands above to count the values, normalize these counts, and plot the resulting distribution."
   ]
  },
  {
   "cell_type": "code",
   "execution_count": 8,
   "metadata": {},
   "outputs": [
    {
     "data": {
      "text/plain": [
       "Bridge Traffic\n",
       "no     0.555556\n",
       "yes    0.444444\n",
       "Name: proportion, dtype: float64"
      ]
     },
     "execution_count": 8,
     "metadata": {},
     "output_type": "execute_result"
    }
   ],
   "source": [
    "weatherdf[\"Bridge Traffic\"].value_counts(normalize = True)"
   ]
  },
  {
   "cell_type": "code",
   "execution_count": 9,
   "metadata": {},
   "outputs": [
    {
     "data": {
      "text/plain": [
       "<Axes: xlabel='Bridge Traffic', ylabel='Probability'>"
      ]
     },
     "execution_count": 9,
     "metadata": {},
     "output_type": "execute_result"
    },
    {
     "data": {
      "image/png": "[encoded data removed]",
      "text/plain": [
       "<Figure size 640x480 with 1 Axes>"
      ]
     },
     "metadata": {},
     "output_type": "display_data"
    }
   ],
   "source": [
    "weatherdf[\"Bridge Traffic\"].value_counts(normalize = True).plot(kind = \"bar\", ylabel = \"Probability\")"
   ]
  },
  {
   "cell_type": "markdown",
   "metadata": {},
   "source": [
    "What if we want to estimate and visualize the conditional probabilities? For instance, given that it is sunny, what is the probability there is traffic? (Above, we calculated the probability that it is sunny *and* there is traffic.) The `pd.crosstab()` command will give us a table of the conditional counts (i.e., a contingency table), and takes as inputs the two columns we would like to compare."
   ]
  },
  {
   "cell_type": "code",
   "execution_count": 10,
   "metadata": {},
   "outputs": [
    {
     "data": {
      "text/html": [
       "<div>\n",
       "<style scoped>\n",
       "    .dataframe tbody tr th:only-of-type {\n",
       "        vertical-align: middle;\n",
       "    }\n",
       "\n",
       "    .dataframe tbody tr th {\n",
       "        vertical-align: top;\n",
       "    }\n",
       "\n",
       "    .dataframe thead th {\n",
       "        text-align: right;\n",
       "    }\n",
       "</style>\n",
       "<table border=\"1\" class=\"dataframe\">\n",
       "  <thead>\n",
       "    <tr style=\"text-align: right;\">\n",
       "      <th>Weather</th>\n",
       "      <th>rainy</th>\n",
       "      <th>sunny</th>\n",
       "    </tr>\n",
       "    <tr>\n",
       "      <th>Bridge Traffic</th>\n",
       "      <th></th>\n",
       "      <th></th>\n",
       "    </tr>\n",
       "  </thead>\n",
       "  <tbody>\n",
       "    <tr>\n",
       "      <th>no</th>\n",
       "      <td>1</td>\n",
       "      <td>4</td>\n",
       "    </tr>\n",
       "    <tr>\n",
       "      <th>yes</th>\n",
       "      <td>3</td>\n",
       "      <td>1</td>\n",
       "    </tr>\n",
       "  </tbody>\n",
       "</table>\n",
       "</div>"
      ],
      "text/plain": [
       "Weather         rainy  sunny\n",
       "Bridge Traffic              \n",
       "no                  1      4\n",
       "yes                 3      1"
      ]
     },
     "execution_count": 10,
     "metadata": {},
     "output_type": "execute_result"
    }
   ],
   "source": [
    "pd.crosstab(weatherdf[\"Bridge Traffic\"], weatherdf[\"Weather\"])"
   ]
  },
  {
   "cell_type": "markdown",
   "metadata": {},
   "source": [
    "We can normalize this by either columns or rows (this is called \"index\" for crosstab). Below, we've normalized by columns. "
   ]
  },
  {
   "cell_type": "code",
   "execution_count": 11,
   "metadata": {},
   "outputs": [
    {
     "data": {
      "text/html": [
       "<div>\n",
       "<style scoped>\n",
       "    .dataframe tbody tr th:only-of-type {\n",
       "        vertical-align: middle;\n",
       "    }\n",
       "\n",
       "    .dataframe tbody tr th {\n",
       "        vertical-align: top;\n",
       "    }\n",
       "\n",
       "    .dataframe thead th {\n",
       "        text-align: right;\n",
       "    }\n",
       "</style>\n",
       "<table border=\"1\" class=\"dataframe\">\n",
       "  <thead>\n",
       "    <tr style=\"text-align: right;\">\n",
       "      <th>Weather</th>\n",
       "      <th>rainy</th>\n",
       "      <th>sunny</th>\n",
       "    </tr>\n",
       "    <tr>\n",
       "      <th>Bridge Traffic</th>\n",
       "      <th></th>\n",
       "      <th></th>\n",
       "    </tr>\n",
       "  </thead>\n",
       "  <tbody>\n",
       "    <tr>\n",
       "      <th>no</th>\n",
       "      <td>0.25</td>\n",
       "      <td>0.8</td>\n",
       "    </tr>\n",
       "    <tr>\n",
       "      <th>yes</th>\n",
       "      <td>0.75</td>\n",
       "      <td>0.2</td>\n",
       "    </tr>\n",
       "  </tbody>\n",
       "</table>\n",
       "</div>"
      ],
      "text/plain": [
       "Weather         rainy  sunny\n",
       "Bridge Traffic              \n",
       "no               0.25    0.8\n",
       "yes              0.75    0.2"
      ]
     },
     "execution_count": 11,
     "metadata": {},
     "output_type": "execute_result"
    }
   ],
   "source": [
    "pd.crosstab(weatherdf[\"Bridge Traffic\"], weatherdf[\"Weather\"],normalize = \"columns\")"
   ]
  },
  {
   "cell_type": "markdown",
   "metadata": {},
   "source": [
    "Again, let $A = \\{\\text{sunny}\\}$ and $B = \\{\\text{yes traffic}\\}$. Then, we can think of these values as estimates of the conditional probabilities: $$\\hat{\\mathbb{P}}[B | A] = 0.2,~~\\hat{\\mathbb{P}}[B^c | A] = 0.8,~~\\hat{\\mathbb{P}}[B | A^c] = 0.75,~~\\hat{\\mathbb{P}}[B^c | A^c] = 0.25 \\ .$$   "
   ]
  },
  {
   "cell_type": "markdown",
   "metadata": {},
   "source": [
    "If we ask pandas to plot this table, we get a grouped bar chart which is a convenient visualization for conditional probabilities."
   ]
  },
  {
   "cell_type": "code",
   "execution_count": 12,
   "metadata": {},
   "outputs": [
    {
     "data": {
      "text/plain": [
       "<Axes: xlabel='Bridge Traffic', ylabel='Probability'>"
      ]
     },
     "execution_count": 12,
     "metadata": {},
     "output_type": "execute_result"
    },
    {
     "data": {
      "image/png": "[encoded data removed]",
      "text/plain": [
       "<Figure size 640x480 with 1 Axes>"
      ]
     },
     "metadata": {},
     "output_type": "display_data"
    }
   ],
   "source": [
    "pd.crosstab(weatherdf[\"Bridge Traffic\"], weatherdf[\"Weather\"],normalize = \"columns\").plot(kind = \"bar\", ylabel = \"Probability\")"
   ]
  },
  {
   "cell_type": "markdown",
   "metadata": {},
   "source": [
    "Throughout the course, we will try to highlight common fallacies that you should try to avoid when applying statistics and analyzing datasets. For a nice visualization of some of the topics we will cover, visit [this link](https://www.geckoboard.com/uploads/data-fallacies-to-avoid.pdf). In this lab, we will focus on [**Simpson's paradox**](https://en.wikipedia.org/wiki/Simpson\\%27s_paradox) in which a trend appears across subsets (or groupings) of the data, but then reverses or disappears when we merge the groups. Below, you can see a famous example for kidney stone treatments from *Charig, Clive R., et al. \"Comparison of treatment of renal calculi by open surgery, percutaneous nephrolithotomy, and extracorporeal shockwave lithotripsy.\" Br Med J (Clin Res Ed) 292.6524 (1986): 879-882.*"
   ]
  },
  {
   "cell_type": "markdown",
   "metadata": {},
   "source": [
    "\n",
    "|Kidney Stone Size | Treatment A | Treatment B |\n",
    " --- | --- | --- |\n",
    "|**Small** | 81 successes out of 87 total (**93\\%**) | 234 successes out of 270 total  (87\\%)| \n",
    "| **Large** | 192 successes out of 263 total (**73\\%**)| 55 successes out of 80 total (67\\%)| \n",
    "| **Small or Large** | 273 successes out of 350 total (78\\%) | 289 successes out of 350 total (**83\\%**) |\n",
    "---"
   ]
  },
  {
   "cell_type": "markdown",
   "metadata": {},
   "source": [
    "You'll notice that, although Treatment A is more effective for the groups individually, when we combine the data, we get the curious result that Treatment B has a higher success rate overall. In this particular example, this can be understood as follows:\n",
    "1. Small kidney stones are easier to treat overall.\n",
    "2. It happened that the Treatment B study included many patients with small kidney stones (270) compared to those with large stones (80), whereas the Treatment A study included many patients with large kidney stones (263) compared to those with small stones (87). Thus, we should expect better outcomes in the Treatment B study since it had an easier population.\n",
    "3. If we condition on the stone size (sometimes known as the \"confounding variable\"), we can more clearly see the effectiveness of the treatment.\n",
    "Overall, the possible fallacy here is that we implicitly assume that each treatment was applied to an equal proportion of small and large stone patients, which is definitely not the case."
   ]
  },
  {
   "cell_type": "markdown",
   "metadata": {},
   "source": [
    "Now, let's import our dataset. Following the same method you got successfully working in Lab 1, read in the \"entrancesurvey.csv\" file as a dataframe called `surveydata`. Recall that CSV (comma-separated values) format is a standard format for tabular data, and can contain both descriptive strings as well as numerical values. CSV files are simple and easy to read/edit directly. You should try opening one with another program, such as a basic text editor or a spreadsheet editor."
   ]
  },
  {
   "cell_type": "code",
   "execution_count": 13,
   "metadata": {},
   "outputs": [],
   "source": [
    "surveydata = pd.read_csv(\"datasets/entrancesurvey.csv\") #Put the path to entrancesurvey.csv inside the quotes."
   ]
  },
  {
   "cell_type": "markdown",
   "metadata": {},
   "source": [
    "How many rows and columns does the dataframe have?"
   ]
  },
  {
   "cell_type": "code",
   "execution_count": 14,
   "metadata": {},
   "outputs": [
    {
     "data": {
      "text/plain": [
       "(215, 17)"
      ]
     },
     "execution_count": 14,
     "metadata": {},
     "output_type": "execute_result"
    }
   ],
   "source": [
    "surveydata.shape"
   ]
  },
  {
   "cell_type": "markdown",
   "metadata": {},
   "source": [
    "Next, let's take a quick look at the dataframe. Notice that it indexes the first row with 0, not 1."
   ]
  },
  {
   "cell_type": "code",
   "execution_count": 15,
   "metadata": {},
   "outputs": [
    {
     "data": {
      "text/html": [
       "<div>\n",
       "<style scoped>\n",
       "    .dataframe tbody tr th:only-of-type {\n",
       "        vertical-align: middle;\n",
       "    }\n",
       "\n",
       "    .dataframe tbody tr th {\n",
       "        vertical-align: top;\n",
       "    }\n",
       "\n",
       "    .dataframe thead th {\n",
       "        text-align: right;\n",
       "    }\n",
       "</style>\n",
       "<table border=\"1\" class=\"dataframe\">\n",
       "  <thead>\n",
       "    <tr style=\"text-align: right;\">\n",
       "      <th></th>\n",
       "      <th>Timestamp</th>\n",
       "      <th>What is your major? (Double majors please pick your \"primary\" major.)</th>\n",
       "      <th>Which of the following do you prefer?</th>\n",
       "      <th>Have you taken a probability and statistics course before?</th>\n",
       "      <th>Which of the following best describes your current feeling about EK381?</th>\n",
       "      <th>What is your preferred caffeine source?</th>\n",
       "      <th>At what age did you get your first smartphone?</th>\n",
       "      <th>How many countries have you visited? (Please provide your answer as a number, not a list of countries.)</th>\n",
       "      <th>Rate the following movies. (A bit of a random mix, but hopefully you've heard of most of them.) [Loved it! ]</th>\n",
       "      <th>Rate the following movies. (A bit of a random mix, but hopefully you've heard of most of them.) [Liked it.]</th>\n",
       "      <th>Rate the following movies. (A bit of a random mix, but hopefully you've heard of most of them.) [Just OK.]</th>\n",
       "      <th>Rate the following movies. (A bit of a random mix, but hopefully you've heard of most of them.) [Didn't like it.]</th>\n",
       "      <th>Rate the following movies. (A bit of a random mix, but hopefully you've heard of most of them.) [Hated it!]</th>\n",
       "      <th>Rate the following movies. (A bit of a random mix, but hopefully you've heard of most of them.) [Never seen it.]</th>\n",
       "      <th>Optional: What was an aspect of a previous course that really helped you succeed?</th>\n",
       "      <th>How would you rate your understanding of Python programming?</th>\n",
       "      <th>Optional: Any suggestions for how we can make this a good semester?</th>\n",
       "    </tr>\n",
       "  </thead>\n",
       "  <tbody>\n",
       "    <tr>\n",
       "      <th>0</th>\n",
       "      <td>8/31/2024 21:00:26</td>\n",
       "      <td>EE</td>\n",
       "      <td>Pen-and-paper math</td>\n",
       "      <td>Yes</td>\n",
       "      <td>Excited to learn foundational probability/stat...</td>\n",
       "      <td>Coffee</td>\n",
       "      <td>18+</td>\n",
       "      <td>25</td>\n",
       "      <td>Avengers: Endgame</td>\n",
       "      <td>Barbie, Die Hard</td>\n",
       "      <td>Deadpool and Wolverine, Dune, Encanto, Inside ...</td>\n",
       "      <td>Booksmart, Everything Everywhere All at Once, ...</td>\n",
       "      <td>Oppenheimer</td>\n",
       "      <td>Knives Out, Lady Bird, Mad Max: Fury Road, Poo...</td>\n",
       "      <td>NaN</td>\n",
       "      <td>NaN</td>\n",
       "      <td>NaN</td>\n",
       "    </tr>\n",
       "    <tr>\n",
       "      <th>1</th>\n",
       "      <td>9/1/2024 12:26:52</td>\n",
       "      <td>EE</td>\n",
       "      <td>Writing reports and making presentations</td>\n",
       "      <td>No</td>\n",
       "      <td>Just want to get through the semester.</td>\n",
       "      <td>Energy Drink</td>\n",
       "      <td>10</td>\n",
       "      <td>4</td>\n",
       "      <td>Barbie, Dune, Encanto, Everything Everywhere A...</td>\n",
       "      <td>NaN</td>\n",
       "      <td>NaN</td>\n",
       "      <td>Get Out, Back to the Future, Knives Out, Lady ...</td>\n",
       "      <td>Avengers: Endgame, Die Hard, Oppenheimer, Poor...</td>\n",
       "      <td>Booksmart, Deadpool and Wolverine, Interstellar</td>\n",
       "      <td>NaN</td>\n",
       "      <td>I have never used Python.</td>\n",
       "      <td>NaN</td>\n",
       "    </tr>\n",
       "    <tr>\n",
       "      <th>2</th>\n",
       "      <td>9/1/2024 12:27:42</td>\n",
       "      <td>ME</td>\n",
       "      <td>Programming algorithms</td>\n",
       "      <td>No</td>\n",
       "      <td>Excited to learn foundational probability/stat...</td>\n",
       "      <td>Tea</td>\n",
       "      <td>13</td>\n",
       "      <td>7</td>\n",
       "      <td>Interstellar, Spider-Man: Into the Spiderverse...</td>\n",
       "      <td>Deadpool and Wolverine, Jurassic Park</td>\n",
       "      <td>The Matrix</td>\n",
       "      <td>Oppenheimer</td>\n",
       "      <td>NaN</td>\n",
       "      <td>Avengers: Endgame, Barbie, Booksmart, Die Hard...</td>\n",
       "      <td>NaN</td>\n",
       "      <td>Beginner</td>\n",
       "      <td>NaN</td>\n",
       "    </tr>\n",
       "    <tr>\n",
       "      <th>3</th>\n",
       "      <td>9/1/2024 12:28:20</td>\n",
       "      <td>BME</td>\n",
       "      <td>Pen-and-paper math</td>\n",
       "      <td>No</td>\n",
       "      <td>Excited to learn about machine learning and da...</td>\n",
       "      <td>Tea</td>\n",
       "      <td>16</td>\n",
       "      <td>4</td>\n",
       "      <td>NaN</td>\n",
       "      <td>Knives Out</td>\n",
       "      <td>Inside Out 2</td>\n",
       "      <td>NaN</td>\n",
       "      <td>NaN</td>\n",
       "      <td>Avengers: Endgame, Barbie, Booksmart, Deadpool...</td>\n",
       "      <td>NaN</td>\n",
       "      <td>Beginner</td>\n",
       "      <td>NaN</td>\n",
       "    </tr>\n",
       "    <tr>\n",
       "      <th>4</th>\n",
       "      <td>9/1/2024 12:28:58</td>\n",
       "      <td>ME</td>\n",
       "      <td>Pen-and-paper math</td>\n",
       "      <td>No</td>\n",
       "      <td>Hoping to get a good grade.</td>\n",
       "      <td>I don't drink caffeinated drinks.</td>\n",
       "      <td>12</td>\n",
       "      <td>14</td>\n",
       "      <td>Booksmart, Die Hard, Get Out, Back to the Futu...</td>\n",
       "      <td>Avengers: Endgame, Jurassic Park</td>\n",
       "      <td>Barbie, Encanto, Everything Everywhere All at ...</td>\n",
       "      <td>Dune, Interstellar</td>\n",
       "      <td>Deadpool and Wolverine</td>\n",
       "      <td>Lady Bird, Mad Max: Fury Road, Poor Things, To...</td>\n",
       "      <td>NaN</td>\n",
       "      <td>Expert</td>\n",
       "      <td>NaN</td>\n",
       "    </tr>\n",
       "    <tr>\n",
       "      <th>...</th>\n",
       "      <td>...</td>\n",
       "      <td>...</td>\n",
       "      <td>...</td>\n",
       "      <td>...</td>\n",
       "      <td>...</td>\n",
       "      <td>...</td>\n",
       "      <td>...</td>\n",
       "      <td>...</td>\n",
       "      <td>...</td>\n",
       "      <td>...</td>\n",
       "      <td>...</td>\n",
       "      <td>...</td>\n",
       "      <td>...</td>\n",
       "      <td>...</td>\n",
       "      <td>...</td>\n",
       "      <td>...</td>\n",
       "      <td>...</td>\n",
       "    </tr>\n",
       "    <tr>\n",
       "      <th>210</th>\n",
       "      <td>9/5/2024 11:08:16</td>\n",
       "      <td>ME</td>\n",
       "      <td>Pen-and-paper math</td>\n",
       "      <td>No</td>\n",
       "      <td>Excited to learn foundational probability/stat...</td>\n",
       "      <td>I don't drink caffeinated drinks.</td>\n",
       "      <td>13</td>\n",
       "      <td>2</td>\n",
       "      <td>NaN</td>\n",
       "      <td>Avengers: Endgame, Dune</td>\n",
       "      <td>NaN</td>\n",
       "      <td>NaN</td>\n",
       "      <td>NaN</td>\n",
       "      <td>Barbie, Booksmart, Deadpool and Wolverine, Die...</td>\n",
       "      <td>NaN</td>\n",
       "      <td>Beginner</td>\n",
       "      <td>NaN</td>\n",
       "    </tr>\n",
       "    <tr>\n",
       "      <th>211</th>\n",
       "      <td>9/5/2024 14:35:01</td>\n",
       "      <td>EE</td>\n",
       "      <td>Programming algorithms</td>\n",
       "      <td>No</td>\n",
       "      <td>Hoping to get a good grade.</td>\n",
       "      <td>Tea</td>\n",
       "      <td>14</td>\n",
       "      <td>15</td>\n",
       "      <td>Deadpool and Wolverine, Interstellar, Oppenhei...</td>\n",
       "      <td>Avengers: Endgame, Jurassic Park, Spider-Man: ...</td>\n",
       "      <td>NaN</td>\n",
       "      <td>NaN</td>\n",
       "      <td>NaN</td>\n",
       "      <td>Barbie, Booksmart, Die Hard, Dune, Encanto, Ev...</td>\n",
       "      <td>It was very easy</td>\n",
       "      <td>Competent</td>\n",
       "      <td>NaN</td>\n",
       "    </tr>\n",
       "    <tr>\n",
       "      <th>212</th>\n",
       "      <td>9/6/2024 7:36:16</td>\n",
       "      <td>BME</td>\n",
       "      <td>Collecting data (in a \"wet lab\" or other setting)</td>\n",
       "      <td>Yes</td>\n",
       "      <td>Hoping to get a good grade.</td>\n",
       "      <td>I don't drink caffeinated drinks.</td>\n",
       "      <td>13</td>\n",
       "      <td>2</td>\n",
       "      <td>NaN</td>\n",
       "      <td>Barbie</td>\n",
       "      <td>NaN</td>\n",
       "      <td>NaN</td>\n",
       "      <td>NaN</td>\n",
       "      <td>Avengers: Endgame, Booksmart, Deadpool and Wol...</td>\n",
       "      <td>recorded lectures</td>\n",
       "      <td>Beginner</td>\n",
       "      <td>NaN</td>\n",
       "    </tr>\n",
       "    <tr>\n",
       "      <th>213</th>\n",
       "      <td>9/6/2024 15:20:20</td>\n",
       "      <td>BME</td>\n",
       "      <td>Collecting data (in a \"wet lab\" or other setting)</td>\n",
       "      <td>No</td>\n",
       "      <td>Hoping to get a good grade.</td>\n",
       "      <td>Coffee</td>\n",
       "      <td>11</td>\n",
       "      <td>15</td>\n",
       "      <td>Avengers: Endgame, Barbie, Encanto</td>\n",
       "      <td>Die Hard</td>\n",
       "      <td>Dune</td>\n",
       "      <td>NaN</td>\n",
       "      <td>NaN</td>\n",
       "      <td>Booksmart, Deadpool and Wolverine, Everything ...</td>\n",
       "      <td>NaN</td>\n",
       "      <td>Beginner</td>\n",
       "      <td>NaN</td>\n",
       "    </tr>\n",
       "    <tr>\n",
       "      <th>214</th>\n",
       "      <td>9/6/2024 15:57:18</td>\n",
       "      <td>ME</td>\n",
       "      <td>Pen-and-paper math</td>\n",
       "      <td>Yes</td>\n",
       "      <td>Excited to learn about machine learning and da...</td>\n",
       "      <td>Tea</td>\n",
       "      <td>11</td>\n",
       "      <td>8</td>\n",
       "      <td>Avengers: Endgame, Encanto</td>\n",
       "      <td>Barbie, Dune</td>\n",
       "      <td>NaN</td>\n",
       "      <td>NaN</td>\n",
       "      <td>NaN</td>\n",
       "      <td>Booksmart, Deadpool and Wolverine, Die Hard, E...</td>\n",
       "      <td>Lecture problem solving</td>\n",
       "      <td>Beginner</td>\n",
       "      <td>NaN</td>\n",
       "    </tr>\n",
       "  </tbody>\n",
       "</table>\n",
       "<p>215 rows × 17 columns</p>\n",
       "</div>"
      ],
      "text/plain": [
       "              Timestamp  \\\n",
       "0    8/31/2024 21:00:26   \n",
       "1     9/1/2024 12:26:52   \n",
       "2     9/1/2024 12:27:42   \n",
       "3     9/1/2024 12:28:20   \n",
       "4     9/1/2024 12:28:58   \n",
       "..                  ...   \n",
       "210   9/5/2024 11:08:16   \n",
       "211   9/5/2024 14:35:01   \n",
       "212    9/6/2024 7:36:16   \n",
       "213   9/6/2024 15:20:20   \n",
       "214   9/6/2024 15:57:18   \n",
       "\n",
       "    What is your major? (Double majors please pick your \"primary\" major.)  \\\n",
       "0                                                   EE                      \n",
       "1                                                   EE                      \n",
       "2                                                   ME                      \n",
       "3                                                  BME                      \n",
       "4                                                   ME                      \n",
       "..                                                 ...                      \n",
       "210                                                 ME                      \n",
       "211                                                 EE                      \n",
       "212                                                BME                      \n",
       "213                                                BME                      \n",
       "214                                                 ME                      \n",
       "\n",
       "                 Which of the following do you prefer?  \\\n",
       "0                                   Pen-and-paper math   \n",
       "1             Writing reports and making presentations   \n",
       "2                               Programming algorithms   \n",
       "3                                   Pen-and-paper math   \n",
       "4                                   Pen-and-paper math   \n",
       "..                                                 ...   \n",
       "210                                 Pen-and-paper math   \n",
       "211                             Programming algorithms   \n",
       "212  Collecting data (in a \"wet lab\" or other setting)   \n",
       "213  Collecting data (in a \"wet lab\" or other setting)   \n",
       "214                                 Pen-and-paper math   \n",
       "\n",
       "    Have you taken a probability and statistics course before?  \\\n",
       "0                                                  Yes           \n",
       "1                                                   No           \n",
       "2                                                   No           \n",
       "3                                                   No           \n",
       "4                                                   No           \n",
       "..                                                 ...           \n",
       "210                                                 No           \n",
       "211                                                 No           \n",
       "212                                                Yes           \n",
       "213                                                 No           \n",
       "214                                                Yes           \n",
       "\n",
       "    Which of the following best describes your current feeling about EK381?  \\\n",
       "0    Excited to learn foundational probability/stat...                        \n",
       "1               Just want to get through the semester.                        \n",
       "2    Excited to learn foundational probability/stat...                        \n",
       "3    Excited to learn about machine learning and da...                        \n",
       "4                          Hoping to get a good grade.                        \n",
       "..                                                 ...                        \n",
       "210  Excited to learn foundational probability/stat...                        \n",
       "211                        Hoping to get a good grade.                        \n",
       "212                        Hoping to get a good grade.                        \n",
       "213                        Hoping to get a good grade.                        \n",
       "214  Excited to learn about machine learning and da...                        \n",
       "\n",
       "    What is your preferred caffeine source?  \\\n",
       "0                                    Coffee   \n",
       "1                              Energy Drink   \n",
       "2                                       Tea   \n",
       "3                                       Tea   \n",
       "4         I don't drink caffeinated drinks.   \n",
       "..                                      ...   \n",
       "210       I don't drink caffeinated drinks.   \n",
       "211                                     Tea   \n",
       "212       I don't drink caffeinated drinks.   \n",
       "213                                  Coffee   \n",
       "214                                     Tea   \n",
       "\n",
       "    At what age did you get your first smartphone?  \\\n",
       "0                                              18+   \n",
       "1                                               10   \n",
       "2                                               13   \n",
       "3                                               16   \n",
       "4                                               12   \n",
       "..                                             ...   \n",
       "210                                             13   \n",
       "211                                             14   \n",
       "212                                             13   \n",
       "213                                             11   \n",
       "214                                             11   \n",
       "\n",
       "    How many countries have you visited? (Please provide your answer as a number, not a list of countries.)  \\\n",
       "0                                                   25                                                        \n",
       "1                                                    4                                                        \n",
       "2                                                    7                                                        \n",
       "3                                                    4                                                        \n",
       "4                                                   14                                                        \n",
       "..                                                 ...                                                        \n",
       "210                                                  2                                                        \n",
       "211                                                 15                                                        \n",
       "212                                                  2                                                        \n",
       "213                                                 15                                                        \n",
       "214                                                  8                                                        \n",
       "\n",
       "    Rate the following movies. (A bit of a random mix, but hopefully you've heard of most of them.) [Loved it! ]  \\\n",
       "0                                    Avengers: Endgame                                                             \n",
       "1    Barbie, Dune, Encanto, Everything Everywhere A...                                                             \n",
       "2    Interstellar, Spider-Man: Into the Spiderverse...                                                             \n",
       "3                                                  NaN                                                             \n",
       "4    Booksmart, Die Hard, Get Out, Back to the Futu...                                                             \n",
       "..                                                 ...                                                             \n",
       "210                                                NaN                                                             \n",
       "211  Deadpool and Wolverine, Interstellar, Oppenhei...                                                             \n",
       "212                                                NaN                                                             \n",
       "213                 Avengers: Endgame, Barbie, Encanto                                                             \n",
       "214                         Avengers: Endgame, Encanto                                                             \n",
       "\n",
       "    Rate the following movies. (A bit of a random mix, but hopefully you've heard of most of them.) [Liked it.]  \\\n",
       "0                                     Barbie, Die Hard                                                            \n",
       "1                                                  NaN                                                            \n",
       "2                Deadpool and Wolverine, Jurassic Park                                                            \n",
       "3                                           Knives Out                                                            \n",
       "4                     Avengers: Endgame, Jurassic Park                                                            \n",
       "..                                                 ...                                                            \n",
       "210                            Avengers: Endgame, Dune                                                            \n",
       "211  Avengers: Endgame, Jurassic Park, Spider-Man: ...                                                            \n",
       "212                                             Barbie                                                            \n",
       "213                                           Die Hard                                                            \n",
       "214                                       Barbie, Dune                                                            \n",
       "\n",
       "    Rate the following movies. (A bit of a random mix, but hopefully you've heard of most of them.) [Just OK.]  \\\n",
       "0    Deadpool and Wolverine, Dune, Encanto, Inside ...                                                           \n",
       "1                                                  NaN                                                           \n",
       "2                                           The Matrix                                                           \n",
       "3                                         Inside Out 2                                                           \n",
       "4    Barbie, Encanto, Everything Everywhere All at ...                                                           \n",
       "..                                                 ...                                                           \n",
       "210                                                NaN                                                           \n",
       "211                                                NaN                                                           \n",
       "212                                                NaN                                                           \n",
       "213                                               Dune                                                           \n",
       "214                                                NaN                                                           \n",
       "\n",
       "    Rate the following movies. (A bit of a random mix, but hopefully you've heard of most of them.) [Didn't like it.]  \\\n",
       "0    Booksmart, Everything Everywhere All at Once, ...                                                                  \n",
       "1    Get Out, Back to the Future, Knives Out, Lady ...                                                                  \n",
       "2                                          Oppenheimer                                                                  \n",
       "3                                                  NaN                                                                  \n",
       "4                                   Dune, Interstellar                                                                  \n",
       "..                                                 ...                                                                  \n",
       "210                                                NaN                                                                  \n",
       "211                                                NaN                                                                  \n",
       "212                                                NaN                                                                  \n",
       "213                                                NaN                                                                  \n",
       "214                                                NaN                                                                  \n",
       "\n",
       "    Rate the following movies. (A bit of a random mix, but hopefully you've heard of most of them.) [Hated it!]  \\\n",
       "0                                          Oppenheimer                                                            \n",
       "1    Avengers: Endgame, Die Hard, Oppenheimer, Poor...                                                            \n",
       "2                                                  NaN                                                            \n",
       "3                                                  NaN                                                            \n",
       "4                               Deadpool and Wolverine                                                            \n",
       "..                                                 ...                                                            \n",
       "210                                                NaN                                                            \n",
       "211                                                NaN                                                            \n",
       "212                                                NaN                                                            \n",
       "213                                                NaN                                                            \n",
       "214                                                NaN                                                            \n",
       "\n",
       "    Rate the following movies. (A bit of a random mix, but hopefully you've heard of most of them.) [Never seen it.]  \\\n",
       "0    Knives Out, Lady Bird, Mad Max: Fury Road, Poo...                                                                 \n",
       "1      Booksmart, Deadpool and Wolverine, Interstellar                                                                 \n",
       "2    Avengers: Endgame, Barbie, Booksmart, Die Hard...                                                                 \n",
       "3    Avengers: Endgame, Barbie, Booksmart, Deadpool...                                                                 \n",
       "4    Lady Bird, Mad Max: Fury Road, Poor Things, To...                                                                 \n",
       "..                                                 ...                                                                 \n",
       "210  Barbie, Booksmart, Deadpool and Wolverine, Die...                                                                 \n",
       "211  Barbie, Booksmart, Die Hard, Dune, Encanto, Ev...                                                                 \n",
       "212  Avengers: Endgame, Booksmart, Deadpool and Wol...                                                                 \n",
       "213  Booksmart, Deadpool and Wolverine, Everything ...                                                                 \n",
       "214  Booksmart, Deadpool and Wolverine, Die Hard, E...                                                                 \n",
       "\n",
       "    Optional: What was an aspect of a previous course that really helped you succeed?  \\\n",
       "0                                                  NaN                                  \n",
       "1                                                  NaN                                  \n",
       "2                                                  NaN                                  \n",
       "3                                                  NaN                                  \n",
       "4                                                  NaN                                  \n",
       "..                                                 ...                                  \n",
       "210                                                NaN                                  \n",
       "211                                   It was very easy                                  \n",
       "212                                  recorded lectures                                  \n",
       "213                                                NaN                                  \n",
       "214                           Lecture problem solving                                   \n",
       "\n",
       "    How would you rate your understanding of Python programming?  \\\n",
       "0                                                  NaN             \n",
       "1                            I have never used Python.             \n",
       "2                                             Beginner             \n",
       "3                                             Beginner             \n",
       "4                                               Expert             \n",
       "..                                                 ...             \n",
       "210                                           Beginner             \n",
       "211                                          Competent             \n",
       "212                                           Beginner             \n",
       "213                                           Beginner             \n",
       "214                                           Beginner             \n",
       "\n",
       "     Optional: Any suggestions for how we can make this a good semester?  \n",
       "0                                                  NaN                    \n",
       "1                                                  NaN                    \n",
       "2                                                  NaN                    \n",
       "3                                                  NaN                    \n",
       "4                                                  NaN                    \n",
       "..                                                 ...                    \n",
       "210                                                NaN                    \n",
       "211                                                NaN                    \n",
       "212                                                NaN                    \n",
       "213                                                NaN                    \n",
       "214                                                NaN                    \n",
       "\n",
       "[215 rows x 17 columns]"
      ]
     },
     "execution_count": 15,
     "metadata": {},
     "output_type": "execute_result"
    }
   ],
   "source": [
    "#If you want to see the whole dataframe throughout this lab, \n",
    "#rather than just the first and last 5 rows, uncomment the line immediately below.\n",
    "#pd.set_option(\"display.max_rows\", None) \n",
    "surveydata"
   ]
  },
  {
   "cell_type": "markdown",
   "metadata": {},
   "source": [
    "We will limit ourselves to the first five columns in this lab. One way to access these columns is with the `iloc[:,1:6]` command where `iloc` refers to \"index location\", putting first `:` refers to \"all of the rows, and putting `1:6` next refers to columns 1 through 5. (Python indexing is funny like this, ending right before the last element of a requested interval.) **We will set this equal to a new dataframe called `df` that you should use below.** Note that changes to `df` will not impact the original dataframe `surveydata`."
   ]
  },
  {
   "cell_type": "code",
   "execution_count": 16,
   "metadata": {},
   "outputs": [
    {
     "data": {
      "text/html": [
       "<div>\n",
       "<style scoped>\n",
       "    .dataframe tbody tr th:only-of-type {\n",
       "        vertical-align: middle;\n",
       "    }\n",
       "\n",
       "    .dataframe tbody tr th {\n",
       "        vertical-align: top;\n",
       "    }\n",
       "\n",
       "    .dataframe thead th {\n",
       "        text-align: right;\n",
       "    }\n",
       "</style>\n",
       "<table border=\"1\" class=\"dataframe\">\n",
       "  <thead>\n",
       "    <tr style=\"text-align: right;\">\n",
       "      <th></th>\n",
       "      <th>What is your major? (Double majors please pick your \"primary\" major.)</th>\n",
       "      <th>Which of the following do you prefer?</th>\n",
       "      <th>Have you taken a probability and statistics course before?</th>\n",
       "      <th>Which of the following best describes your current feeling about EK381?</th>\n",
       "      <th>What is your preferred caffeine source?</th>\n",
       "    </tr>\n",
       "  </thead>\n",
       "  <tbody>\n",
       "    <tr>\n",
       "      <th>0</th>\n",
       "      <td>EE</td>\n",
       "      <td>Pen-and-paper math</td>\n",
       "      <td>Yes</td>\n",
       "      <td>Excited to learn foundational probability/stat...</td>\n",
       "      <td>Coffee</td>\n",
       "    </tr>\n",
       "    <tr>\n",
       "      <th>1</th>\n",
       "      <td>EE</td>\n",
       "      <td>Writing reports and making presentations</td>\n",
       "      <td>No</td>\n",
       "      <td>Just want to get through the semester.</td>\n",
       "      <td>Energy Drink</td>\n",
       "    </tr>\n",
       "    <tr>\n",
       "      <th>2</th>\n",
       "      <td>ME</td>\n",
       "      <td>Programming algorithms</td>\n",
       "      <td>No</td>\n",
       "      <td>Excited to learn foundational probability/stat...</td>\n",
       "      <td>Tea</td>\n",
       "    </tr>\n",
       "    <tr>\n",
       "      <th>3</th>\n",
       "      <td>BME</td>\n",
       "      <td>Pen-and-paper math</td>\n",
       "      <td>No</td>\n",
       "      <td>Excited to learn about machine learning and da...</td>\n",
       "      <td>Tea</td>\n",
       "    </tr>\n",
       "    <tr>\n",
       "      <th>4</th>\n",
       "      <td>ME</td>\n",
       "      <td>Pen-and-paper math</td>\n",
       "      <td>No</td>\n",
       "      <td>Hoping to get a good grade.</td>\n",
       "      <td>I don't drink caffeinated drinks.</td>\n",
       "    </tr>\n",
       "    <tr>\n",
       "      <th>...</th>\n",
       "      <td>...</td>\n",
       "      <td>...</td>\n",
       "      <td>...</td>\n",
       "      <td>...</td>\n",
       "      <td>...</td>\n",
       "    </tr>\n",
       "    <tr>\n",
       "      <th>210</th>\n",
       "      <td>ME</td>\n",
       "      <td>Pen-and-paper math</td>\n",
       "      <td>No</td>\n",
       "      <td>Excited to learn foundational probability/stat...</td>\n",
       "      <td>I don't drink caffeinated drinks.</td>\n",
       "    </tr>\n",
       "    <tr>\n",
       "      <th>211</th>\n",
       "      <td>EE</td>\n",
       "      <td>Programming algorithms</td>\n",
       "      <td>No</td>\n",
       "      <td>Hoping to get a good grade.</td>\n",
       "      <td>Tea</td>\n",
       "    </tr>\n",
       "    <tr>\n",
       "      <th>212</th>\n",
       "      <td>BME</td>\n",
       "      <td>Collecting data (in a \"wet lab\" or other setting)</td>\n",
       "      <td>Yes</td>\n",
       "      <td>Hoping to get a good grade.</td>\n",
       "      <td>I don't drink caffeinated drinks.</td>\n",
       "    </tr>\n",
       "    <tr>\n",
       "      <th>213</th>\n",
       "      <td>BME</td>\n",
       "      <td>Collecting data (in a \"wet lab\" or other setting)</td>\n",
       "      <td>No</td>\n",
       "      <td>Hoping to get a good grade.</td>\n",
       "      <td>Coffee</td>\n",
       "    </tr>\n",
       "    <tr>\n",
       "      <th>214</th>\n",
       "      <td>ME</td>\n",
       "      <td>Pen-and-paper math</td>\n",
       "      <td>Yes</td>\n",
       "      <td>Excited to learn about machine learning and da...</td>\n",
       "      <td>Tea</td>\n",
       "    </tr>\n",
       "  </tbody>\n",
       "</table>\n",
       "<p>215 rows × 5 columns</p>\n",
       "</div>"
      ],
      "text/plain": [
       "    What is your major? (Double majors please pick your \"primary\" major.)  \\\n",
       "0                                                   EE                      \n",
       "1                                                   EE                      \n",
       "2                                                   ME                      \n",
       "3                                                  BME                      \n",
       "4                                                   ME                      \n",
       "..                                                 ...                      \n",
       "210                                                 ME                      \n",
       "211                                                 EE                      \n",
       "212                                                BME                      \n",
       "213                                                BME                      \n",
       "214                                                 ME                      \n",
       "\n",
       "                 Which of the following do you prefer?  \\\n",
       "0                                   Pen-and-paper math   \n",
       "1             Writing reports and making presentations   \n",
       "2                               Programming algorithms   \n",
       "3                                   Pen-and-paper math   \n",
       "4                                   Pen-and-paper math   \n",
       "..                                                 ...   \n",
       "210                                 Pen-and-paper math   \n",
       "211                             Programming algorithms   \n",
       "212  Collecting data (in a \"wet lab\" or other setting)   \n",
       "213  Collecting data (in a \"wet lab\" or other setting)   \n",
       "214                                 Pen-and-paper math   \n",
       "\n",
       "    Have you taken a probability and statistics course before?  \\\n",
       "0                                                  Yes           \n",
       "1                                                   No           \n",
       "2                                                   No           \n",
       "3                                                   No           \n",
       "4                                                   No           \n",
       "..                                                 ...           \n",
       "210                                                 No           \n",
       "211                                                 No           \n",
       "212                                                Yes           \n",
       "213                                                 No           \n",
       "214                                                Yes           \n",
       "\n",
       "    Which of the following best describes your current feeling about EK381?  \\\n",
       "0    Excited to learn foundational probability/stat...                        \n",
       "1               Just want to get through the semester.                        \n",
       "2    Excited to learn foundational probability/stat...                        \n",
       "3    Excited to learn about machine learning and da...                        \n",
       "4                          Hoping to get a good grade.                        \n",
       "..                                                 ...                        \n",
       "210  Excited to learn foundational probability/stat...                        \n",
       "211                        Hoping to get a good grade.                        \n",
       "212                        Hoping to get a good grade.                        \n",
       "213                        Hoping to get a good grade.                        \n",
       "214  Excited to learn about machine learning and da...                        \n",
       "\n",
       "    What is your preferred caffeine source?  \n",
       "0                                    Coffee  \n",
       "1                              Energy Drink  \n",
       "2                                       Tea  \n",
       "3                                       Tea  \n",
       "4         I don't drink caffeinated drinks.  \n",
       "..                                      ...  \n",
       "210       I don't drink caffeinated drinks.  \n",
       "211                                     Tea  \n",
       "212       I don't drink caffeinated drinks.  \n",
       "213                                  Coffee  \n",
       "214                                     Tea  \n",
       "\n",
       "[215 rows x 5 columns]"
      ]
     },
     "execution_count": 16,
     "metadata": {},
     "output_type": "execute_result"
    }
   ],
   "source": [
    "df = surveydata.iloc[:,1:6]\n",
    "df"
   ]
  },
  {
   "cell_type": "markdown",
   "metadata": {},
   "source": [
    "---\n",
    "#### <span style=\"color:blue\">L2.1 How many BME majors responded to the survey?</span>\n",
    "---\n",
    "(You should use the `value_counts()` command applied to the first column.)\n",
    "Recall, from Lab 1, that you can write comments directly in the Jupyter notebook using \"Markdown\" cells, like the one below. (You change the cell type from Code to Markdown and back using the menu or keyboard shortcuts.) Running a Markdown cell will display the text."
   ]
  },
  {
   "cell_type": "code",
   "execution_count": 65,
   "metadata": {},
   "outputs": [
    {
     "data": {
      "text/plain": [
       "What is your major? (Double majors please pick your \"primary\" major.)\n",
       "BME    96\n",
       "ME     54\n",
       "CE     46\n",
       "EE     19\n",
       "Name: count, dtype: int64"
      ]
     },
     "execution_count": 65,
     "metadata": {},
     "output_type": "execute_result"
    }
   ],
   "source": [
    "#Use this cell for your computations.\n",
    "df_major = surveydata.iloc[:,1]\n",
    "df_major\n",
    "df_major.value_counts()"
   ]
  },
  {
   "cell_type": "markdown",
   "metadata": {},
   "source": [
    "#### The number of BME respondents was 96."
   ]
  },
  {
   "cell_type": "markdown",
   "metadata": {},
   "source": [
    "---\n",
    "#### <span style=\"color:blue\">L2.2 What is the probability that a random survey respondent is a BME major?</span>\n",
    "---\n",
    "\n",
    "Use the normalized count to get this value. (We could also treat this as an estimate of the true distribution of majors in EK381, which is not captured by this survey since only 215 out of 270 total students responded.) "
   ]
  },
  {
   "cell_type": "code",
   "execution_count": 31,
   "metadata": {},
   "outputs": [
    {
     "data": {
      "text/plain": [
       "What is your major? (Double majors please pick your \"primary\" major.)\n",
       "BME    0.446512\n",
       "ME     0.251163\n",
       "CE     0.213953\n",
       "EE     0.088372\n",
       "Name: proportion, dtype: float64"
      ]
     },
     "execution_count": 31,
     "metadata": {},
     "output_type": "execute_result"
    }
   ],
   "source": [
    "df_major.value_counts(normalize = True)"
   ]
  },
  {
   "cell_type": "markdown",
   "metadata": {},
   "source": [
    "#### The probability that a respondent is a BME major is 0.446512."
   ]
  },
  {
   "cell_type": "markdown",
   "metadata": {},
   "source": [
    "---\n",
    "#### <span style=\"color:blue\">L2.3 Create a histogram representing the probability a respondent has a certain major.</span>\n",
    "---\n",
    "See above for an example."
   ]
  },
  {
   "cell_type": "code",
   "execution_count": 38,
   "metadata": {},
   "outputs": [
    {
     "data": {
      "text/plain": [
       "<Axes: xlabel='Major', ylabel='Probability'>"
      ]
     },
     "execution_count": 38,
     "metadata": {},
     "output_type": "execute_result"
    },
    {
     "data": {
      "image/png": "[encoded data removed]",
      "text/plain": [
       "<Figure size 640x480 with 1 Axes>"
      ]
     },
     "metadata": {},
     "output_type": "display_data"
    }
   ],
   "source": [
    "#Use this cell to generate your plot.\n",
    "df[\"Major\"].value_counts(normalize = True).plot(kind = \"bar\", ylabel = \"Probability\")"
   ]
  },
  {
   "cell_type": "markdown",
   "metadata": {},
   "source": [
    "Pandas also lets refer to columns by their names, rather than just their indices. One issue in our dataset is that the column name is the entire survey question. Let's go ahead and rename columns with simpler titles, and display the data frame again to see that it worked."
   ]
  },
  {
   "cell_type": "code",
   "execution_count": 32,
   "metadata": {},
   "outputs": [
    {
     "data": {
      "text/html": [
       "<div>\n",
       "<style scoped>\n",
       "    .dataframe tbody tr th:only-of-type {\n",
       "        vertical-align: middle;\n",
       "    }\n",
       "\n",
       "    .dataframe tbody tr th {\n",
       "        vertical-align: top;\n",
       "    }\n",
       "\n",
       "    .dataframe thead th {\n",
       "        text-align: right;\n",
       "    }\n",
       "</style>\n",
       "<table border=\"1\" class=\"dataframe\">\n",
       "  <thead>\n",
       "    <tr style=\"text-align: right;\">\n",
       "      <th></th>\n",
       "      <th>Major</th>\n",
       "      <th>Preferred Activity</th>\n",
       "      <th>Previous Course</th>\n",
       "      <th>Current Feeling</th>\n",
       "      <th>Caffeine Source</th>\n",
       "    </tr>\n",
       "  </thead>\n",
       "  <tbody>\n",
       "    <tr>\n",
       "      <th>0</th>\n",
       "      <td>EE</td>\n",
       "      <td>Pen-and-paper math</td>\n",
       "      <td>Yes</td>\n",
       "      <td>Excited to learn foundational probability/stat...</td>\n",
       "      <td>Coffee</td>\n",
       "    </tr>\n",
       "    <tr>\n",
       "      <th>1</th>\n",
       "      <td>EE</td>\n",
       "      <td>Writing reports and making presentations</td>\n",
       "      <td>No</td>\n",
       "      <td>Just want to get through the semester.</td>\n",
       "      <td>Energy Drink</td>\n",
       "    </tr>\n",
       "    <tr>\n",
       "      <th>2</th>\n",
       "      <td>ME</td>\n",
       "      <td>Programming algorithms</td>\n",
       "      <td>No</td>\n",
       "      <td>Excited to learn foundational probability/stat...</td>\n",
       "      <td>Tea</td>\n",
       "    </tr>\n",
       "    <tr>\n",
       "      <th>3</th>\n",
       "      <td>BME</td>\n",
       "      <td>Pen-and-paper math</td>\n",
       "      <td>No</td>\n",
       "      <td>Excited to learn about machine learning and da...</td>\n",
       "      <td>Tea</td>\n",
       "    </tr>\n",
       "    <tr>\n",
       "      <th>4</th>\n",
       "      <td>ME</td>\n",
       "      <td>Pen-and-paper math</td>\n",
       "      <td>No</td>\n",
       "      <td>Hoping to get a good grade.</td>\n",
       "      <td>I don't drink caffeinated drinks.</td>\n",
       "    </tr>\n",
       "    <tr>\n",
       "      <th>...</th>\n",
       "      <td>...</td>\n",
       "      <td>...</td>\n",
       "      <td>...</td>\n",
       "      <td>...</td>\n",
       "      <td>...</td>\n",
       "    </tr>\n",
       "    <tr>\n",
       "      <th>210</th>\n",
       "      <td>ME</td>\n",
       "      <td>Pen-and-paper math</td>\n",
       "      <td>No</td>\n",
       "      <td>Excited to learn foundational probability/stat...</td>\n",
       "      <td>I don't drink caffeinated drinks.</td>\n",
       "    </tr>\n",
       "    <tr>\n",
       "      <th>211</th>\n",
       "      <td>EE</td>\n",
       "      <td>Programming algorithms</td>\n",
       "      <td>No</td>\n",
       "      <td>Hoping to get a good grade.</td>\n",
       "      <td>Tea</td>\n",
       "    </tr>\n",
       "    <tr>\n",
       "      <th>212</th>\n",
       "      <td>BME</td>\n",
       "      <td>Collecting data (in a \"wet lab\" or other setting)</td>\n",
       "      <td>Yes</td>\n",
       "      <td>Hoping to get a good grade.</td>\n",
       "      <td>I don't drink caffeinated drinks.</td>\n",
       "    </tr>\n",
       "    <tr>\n",
       "      <th>213</th>\n",
       "      <td>BME</td>\n",
       "      <td>Collecting data (in a \"wet lab\" or other setting)</td>\n",
       "      <td>No</td>\n",
       "      <td>Hoping to get a good grade.</td>\n",
       "      <td>Coffee</td>\n",
       "    </tr>\n",
       "    <tr>\n",
       "      <th>214</th>\n",
       "      <td>ME</td>\n",
       "      <td>Pen-and-paper math</td>\n",
       "      <td>Yes</td>\n",
       "      <td>Excited to learn about machine learning and da...</td>\n",
       "      <td>Tea</td>\n",
       "    </tr>\n",
       "  </tbody>\n",
       "</table>\n",
       "<p>215 rows × 5 columns</p>\n",
       "</div>"
      ],
      "text/plain": [
       "    Major                                 Preferred Activity Previous Course  \\\n",
       "0      EE                                 Pen-and-paper math             Yes   \n",
       "1      EE           Writing reports and making presentations              No   \n",
       "2      ME                             Programming algorithms              No   \n",
       "3     BME                                 Pen-and-paper math              No   \n",
       "4      ME                                 Pen-and-paper math              No   \n",
       "..    ...                                                ...             ...   \n",
       "210    ME                                 Pen-and-paper math              No   \n",
       "211    EE                             Programming algorithms              No   \n",
       "212   BME  Collecting data (in a \"wet lab\" or other setting)             Yes   \n",
       "213   BME  Collecting data (in a \"wet lab\" or other setting)              No   \n",
       "214    ME                                 Pen-and-paper math             Yes   \n",
       "\n",
       "                                       Current Feeling  \\\n",
       "0    Excited to learn foundational probability/stat...   \n",
       "1               Just want to get through the semester.   \n",
       "2    Excited to learn foundational probability/stat...   \n",
       "3    Excited to learn about machine learning and da...   \n",
       "4                          Hoping to get a good grade.   \n",
       "..                                                 ...   \n",
       "210  Excited to learn foundational probability/stat...   \n",
       "211                        Hoping to get a good grade.   \n",
       "212                        Hoping to get a good grade.   \n",
       "213                        Hoping to get a good grade.   \n",
       "214  Excited to learn about machine learning and da...   \n",
       "\n",
       "                       Caffeine Source  \n",
       "0                               Coffee  \n",
       "1                         Energy Drink  \n",
       "2                                  Tea  \n",
       "3                                  Tea  \n",
       "4    I don't drink caffeinated drinks.  \n",
       "..                                 ...  \n",
       "210  I don't drink caffeinated drinks.  \n",
       "211                                Tea  \n",
       "212  I don't drink caffeinated drinks.  \n",
       "213                             Coffee  \n",
       "214                                Tea  \n",
       "\n",
       "[215 rows x 5 columns]"
      ]
     },
     "execution_count": 32,
     "metadata": {},
     "output_type": "execute_result"
    }
   ],
   "source": [
    "df.columns = [\"Major\",\"Preferred Activity\", \"Previous Course\", \"Current Feeling\", \"Caffeine Source\"]\n",
    "df"
   ]
  },
  {
   "cell_type": "markdown",
   "metadata": {},
   "source": [
    "Note that you can now call the column by `df[\"Major\"]`, which is more readable than `df.iloc[:,0]`. (Note calling columns by their name is sensitive to capitalization.)"
   ]
  },
  {
   "cell_type": "code",
   "execution_count": 35,
   "metadata": {},
   "outputs": [
    {
     "data": {
      "text/plain": [
       "0       EE\n",
       "1       EE\n",
       "2       ME\n",
       "3      BME\n",
       "4       ME\n",
       "      ... \n",
       "210     ME\n",
       "211     EE\n",
       "212    BME\n",
       "213    BME\n",
       "214     ME\n",
       "Name: Major, Length: 215, dtype: object"
      ]
     },
     "execution_count": 35,
     "metadata": {},
     "output_type": "execute_result"
    }
   ],
   "source": [
    "df[\"Major\"]"
   ]
  },
  {
   "cell_type": "markdown",
   "metadata": {},
   "source": [
    "We can make our dataframe a bit more readable by paraphrasing some of the possible answers. For example, it will be more readable to change \"Pen-and-paper math\" to \"math\". We can do this with the `replace` command, as shown below."
   ]
  },
  {
   "cell_type": "code",
   "execution_count": 36,
   "metadata": {},
   "outputs": [
    {
     "data": {
      "text/html": [
       "<div>\n",
       "<style scoped>\n",
       "    .dataframe tbody tr th:only-of-type {\n",
       "        vertical-align: middle;\n",
       "    }\n",
       "\n",
       "    .dataframe tbody tr th {\n",
       "        vertical-align: top;\n",
       "    }\n",
       "\n",
       "    .dataframe thead th {\n",
       "        text-align: right;\n",
       "    }\n",
       "</style>\n",
       "<table border=\"1\" class=\"dataframe\">\n",
       "  <thead>\n",
       "    <tr style=\"text-align: right;\">\n",
       "      <th></th>\n",
       "      <th>Major</th>\n",
       "      <th>Preferred Activity</th>\n",
       "      <th>Previous Course</th>\n",
       "      <th>Current Feeling</th>\n",
       "      <th>Caffeine Source</th>\n",
       "    </tr>\n",
       "  </thead>\n",
       "  <tbody>\n",
       "    <tr>\n",
       "      <th>0</th>\n",
       "      <td>EE</td>\n",
       "      <td>math</td>\n",
       "      <td>Yes</td>\n",
       "      <td>excited about probability</td>\n",
       "      <td>Coffee</td>\n",
       "    </tr>\n",
       "    <tr>\n",
       "      <th>1</th>\n",
       "      <td>EE</td>\n",
       "      <td>writing</td>\n",
       "      <td>No</td>\n",
       "      <td>just get by</td>\n",
       "      <td>Energy Drink</td>\n",
       "    </tr>\n",
       "    <tr>\n",
       "      <th>2</th>\n",
       "      <td>ME</td>\n",
       "      <td>coding</td>\n",
       "      <td>No</td>\n",
       "      <td>excited about probability</td>\n",
       "      <td>Tea</td>\n",
       "    </tr>\n",
       "    <tr>\n",
       "      <th>3</th>\n",
       "      <td>BME</td>\n",
       "      <td>math</td>\n",
       "      <td>No</td>\n",
       "      <td>excited about ML/data</td>\n",
       "      <td>Tea</td>\n",
       "    </tr>\n",
       "    <tr>\n",
       "      <th>4</th>\n",
       "      <td>ME</td>\n",
       "      <td>math</td>\n",
       "      <td>No</td>\n",
       "      <td>want a good grade</td>\n",
       "      <td>I don't drink caffeinated drinks.</td>\n",
       "    </tr>\n",
       "    <tr>\n",
       "      <th>...</th>\n",
       "      <td>...</td>\n",
       "      <td>...</td>\n",
       "      <td>...</td>\n",
       "      <td>...</td>\n",
       "      <td>...</td>\n",
       "    </tr>\n",
       "    <tr>\n",
       "      <th>210</th>\n",
       "      <td>ME</td>\n",
       "      <td>math</td>\n",
       "      <td>No</td>\n",
       "      <td>excited about probability</td>\n",
       "      <td>I don't drink caffeinated drinks.</td>\n",
       "    </tr>\n",
       "    <tr>\n",
       "      <th>211</th>\n",
       "      <td>EE</td>\n",
       "      <td>coding</td>\n",
       "      <td>No</td>\n",
       "      <td>want a good grade</td>\n",
       "      <td>Tea</td>\n",
       "    </tr>\n",
       "    <tr>\n",
       "      <th>212</th>\n",
       "      <td>BME</td>\n",
       "      <td>data collection</td>\n",
       "      <td>Yes</td>\n",
       "      <td>want a good grade</td>\n",
       "      <td>I don't drink caffeinated drinks.</td>\n",
       "    </tr>\n",
       "    <tr>\n",
       "      <th>213</th>\n",
       "      <td>BME</td>\n",
       "      <td>data collection</td>\n",
       "      <td>No</td>\n",
       "      <td>want a good grade</td>\n",
       "      <td>Coffee</td>\n",
       "    </tr>\n",
       "    <tr>\n",
       "      <th>214</th>\n",
       "      <td>ME</td>\n",
       "      <td>math</td>\n",
       "      <td>Yes</td>\n",
       "      <td>excited about ML/data</td>\n",
       "      <td>Tea</td>\n",
       "    </tr>\n",
       "  </tbody>\n",
       "</table>\n",
       "<p>215 rows × 5 columns</p>\n",
       "</div>"
      ],
      "text/plain": [
       "    Major Preferred Activity Previous Course            Current Feeling  \\\n",
       "0      EE               math             Yes  excited about probability   \n",
       "1      EE            writing              No                just get by   \n",
       "2      ME             coding              No  excited about probability   \n",
       "3     BME               math              No      excited about ML/data   \n",
       "4      ME               math              No          want a good grade   \n",
       "..    ...                ...             ...                        ...   \n",
       "210    ME               math              No  excited about probability   \n",
       "211    EE             coding              No          want a good grade   \n",
       "212   BME    data collection             Yes          want a good grade   \n",
       "213   BME    data collection              No          want a good grade   \n",
       "214    ME               math             Yes      excited about ML/data   \n",
       "\n",
       "                       Caffeine Source  \n",
       "0                               Coffee  \n",
       "1                         Energy Drink  \n",
       "2                                  Tea  \n",
       "3                                  Tea  \n",
       "4    I don't drink caffeinated drinks.  \n",
       "..                                 ...  \n",
       "210  I don't drink caffeinated drinks.  \n",
       "211                                Tea  \n",
       "212  I don't drink caffeinated drinks.  \n",
       "213                             Coffee  \n",
       "214                                Tea  \n",
       "\n",
       "[215 rows x 5 columns]"
      ]
     },
     "execution_count": 36,
     "metadata": {},
     "output_type": "execute_result"
    }
   ],
   "source": [
    "df.replace(\"Pen-and-paper math\", \"math\", inplace = True)\n",
    "df.replace(\"Writing reports and making presentations\", \"writing\", inplace = True)\n",
    "df.replace(\"Programming algorithms\", \"coding\", inplace = True)\n",
    "df.replace(\"Collecting data (in a \\\"wet lab\\\" or other setting)\", \"data collection\", inplace = True)\n",
    "df.replace(\"Just want to get through the semester.\", \"just get by\", inplace = True)\n",
    "df.replace(\"Hoping to get a good grade.\", \"want a good grade\", inplace = True)\n",
    "df.replace(\"Excited to learn foundational probability/statistics concepts.\", \"excited about probability\", inplace = True)\n",
    "df.replace(\"Excited to learn about machine learning and data analysis.\", \"excited about ML/data\", inplace = True)\n",
    "df"
   ]
  },
  {
   "cell_type": "markdown",
   "metadata": {},
   "source": [
    "---\n",
    "#### <span style=\"color:blue\">L2.4 How many respondents are both CE majors and prefer coding? </span>\n",
    "---\n",
    "Recall that you can use `value_counts()` on two (or more) columns at once. You can select multiple columns by their indices with `iloc` or by their column names with `loc`. For example, `df.iloc[:,[2,3]]` refers to the 2nd and 3rd columns and `df.loc[:,\"Previous Course\",\"Current Feeling\"]` has the same effect. Note that the initial colon `:` means \"all of the rows.\""
   ]
  },
  {
   "cell_type": "code",
   "execution_count": 45,
   "metadata": {},
   "outputs": [
    {
     "data": {
      "text/plain": [
       "Major  Preferred Activity\n",
       "BME    math                  45\n",
       "ME     math                  38\n",
       "BME    data collection       35\n",
       "CE     coding                24\n",
       "       math                  15\n",
       "EE     math                  14\n",
       "BME    coding                13\n",
       "ME     coding                 7\n",
       "       writing                5\n",
       "CE     data collection        4\n",
       "ME     data collection        4\n",
       "BME    writing                3\n",
       "CE     writing                3\n",
       "EE     writing                3\n",
       "       coding                 2\n",
       "Name: count, dtype: int64"
      ]
     },
     "execution_count": 45,
     "metadata": {},
     "output_type": "execute_result"
    }
   ],
   "source": [
    "#Use this cell for your computations.\n",
    "df.iloc[:,[0,1]].value_counts()"
   ]
  },
  {
   "cell_type": "markdown",
   "metadata": {},
   "source": [
    "#### The number of respondents who are both CE majors and prefer coding is 24."
   ]
  },
  {
   "cell_type": "markdown",
   "metadata": {},
   "source": [
    "We could make a histogram of all these configurations, but it is difficult to get insight, especially since the x-axis is not sorted in a useful way. (Feel free to try this by adding `.plot(kind = \"bar\")` after your `value_counts()` command.)\n",
    "Instead, it is more useful to try to inspect this data using crosstabs and conditional probability, as we did above."
   ]
  },
  {
   "cell_type": "markdown",
   "metadata": {},
   "source": [
    "---\n",
    "#### <span style=\"color:blue\">L2.5 Generate a \"crosstab\" table with \"Preferred Activity\" along the rows and \"Major\" along the columns, normalized by columns. </span>\n",
    "---"
   ]
  },
  {
   "cell_type": "code",
   "execution_count": 47,
   "metadata": {},
   "outputs": [
    {
     "data": {
      "text/html": [
       "<div>\n",
       "<style scoped>\n",
       "    .dataframe tbody tr th:only-of-type {\n",
       "        vertical-align: middle;\n",
       "    }\n",
       "\n",
       "    .dataframe tbody tr th {\n",
       "        vertical-align: top;\n",
       "    }\n",
       "\n",
       "    .dataframe thead th {\n",
       "        text-align: right;\n",
       "    }\n",
       "</style>\n",
       "<table border=\"1\" class=\"dataframe\">\n",
       "  <thead>\n",
       "    <tr style=\"text-align: right;\">\n",
       "      <th>Preferred Activity</th>\n",
       "      <th>coding</th>\n",
       "      <th>data collection</th>\n",
       "      <th>math</th>\n",
       "      <th>writing</th>\n",
       "    </tr>\n",
       "    <tr>\n",
       "      <th>Major</th>\n",
       "      <th></th>\n",
       "      <th></th>\n",
       "      <th></th>\n",
       "      <th></th>\n",
       "    </tr>\n",
       "  </thead>\n",
       "  <tbody>\n",
       "    <tr>\n",
       "      <th>BME</th>\n",
       "      <td>0.282609</td>\n",
       "      <td>0.813953</td>\n",
       "      <td>0.401786</td>\n",
       "      <td>0.214286</td>\n",
       "    </tr>\n",
       "    <tr>\n",
       "      <th>CE</th>\n",
       "      <td>0.521739</td>\n",
       "      <td>0.093023</td>\n",
       "      <td>0.133929</td>\n",
       "      <td>0.214286</td>\n",
       "    </tr>\n",
       "    <tr>\n",
       "      <th>EE</th>\n",
       "      <td>0.043478</td>\n",
       "      <td>0.000000</td>\n",
       "      <td>0.125000</td>\n",
       "      <td>0.214286</td>\n",
       "    </tr>\n",
       "    <tr>\n",
       "      <th>ME</th>\n",
       "      <td>0.152174</td>\n",
       "      <td>0.093023</td>\n",
       "      <td>0.339286</td>\n",
       "      <td>0.357143</td>\n",
       "    </tr>\n",
       "  </tbody>\n",
       "</table>\n",
       "</div>"
      ],
      "text/plain": [
       "Preferred Activity    coding  data collection      math   writing\n",
       "Major                                                            \n",
       "BME                 0.282609         0.813953  0.401786  0.214286\n",
       "CE                  0.521739         0.093023  0.133929  0.214286\n",
       "EE                  0.043478         0.000000  0.125000  0.214286\n",
       "ME                  0.152174         0.093023  0.339286  0.357143"
      ]
     },
     "execution_count": 47,
     "metadata": {},
     "output_type": "execute_result"
    }
   ],
   "source": [
    "#Use this cell to generate your crosstab.\n",
    "pd.crosstab(df.iloc[:,0], df.iloc[:,1],normalize = \"columns\")"
   ]
  },
  {
   "cell_type": "markdown",
   "metadata": {},
   "source": [
    "---\n",
    "#### <span style=\"color:blue\">L2.6 Create a histogram for this crosstab. Comment below on whether any specific majors strongly prefer certain activities, compared to other majors.  </span>\n",
    "---"
   ]
  },
  {
   "cell_type": "code",
   "execution_count": 64,
   "metadata": {},
   "outputs": [
    {
     "data": {
      "text/plain": [
       "<Axes: xlabel='Major', ylabel='Probability'>"
      ]
     },
     "execution_count": 64,
     "metadata": {},
     "output_type": "execute_result"
    },
    {
     "data": {
      "image/png": "[encoded data removed]",
      "text/plain": [
       "<Figure size 640x480 with 1 Axes>"
      ]
     },
     "metadata": {},
     "output_type": "display_data"
    }
   ],
   "source": [
    "#Use this cell to generate your histogram.\n",
    "pd.crosstab(df.iloc[:,0], df.iloc[:,1],normalize = \"columns\").plot(kind = \"bar\", ylabel = \"Probability\")"
   ]
  },
  {
   "cell_type": "markdown",
   "metadata": {},
   "source": [
    "#### Comments for L2.6:\n",
    "##### - BME majors strongly prefer data collection\n",
    "##### - CE majors strongly prefer coding\n",
    "##### - EE majors strongly prefer writing\n",
    "##### - ME majors strongly prefer writing"
   ]
  },
  {
   "cell_type": "markdown",
   "metadata": {},
   "source": [
    "---\n",
    "#### <span style=\"color:blue\">L2.7 Create a histogram for a crosstab consisting of a different pair of columns (one could be the same). Comment below on anything interesting in your plot (even if your comment is that conditioning has no significant effect).  </span>\n",
    "---"
   ]
  },
  {
   "cell_type": "code",
   "execution_count": 63,
   "metadata": {},
   "outputs": [
    {
     "data": {
      "text/plain": [
       "<Axes: xlabel='Major', ylabel='Probability'>"
      ]
     },
     "execution_count": 63,
     "metadata": {},
     "output_type": "execute_result"
    },
    {
     "data": {
      "image/png": "[encoded data removed]",
      "text/plain": [
       "<Figure size 640x480 with 1 Axes>"
      ]
     },
     "metadata": {},
     "output_type": "display_data"
    }
   ],
   "source": [
    "#Use this cell to generate your crosstab.\n",
    "pd.crosstab(df.iloc[:,0], df.iloc[:,4],normalize = \"columns\").plot(kind = \"bar\", ylabel = \"Probability\")"
   ]
  },
  {
   "cell_type": "markdown",
   "metadata": {},
   "source": [
    "#### Comments for 2.7:\n",
    "##### - BME majors strongly prefer coffee.\n",
    "##### - CE majors strongly prefer soda.\n",
    "##### - EE majors strongly prefer tea.\n",
    "##### - ME majors strongly not prefer any caffeinated drinks."
   ]
  },
  {
   "cell_type": "markdown",
   "metadata": {},
   "source": [
    "Finally, let's preview some of the functionality of pandas for generating estimates of probability mass functions (PMFs). We can use the \"At what age did you get your first smartphone?\" question since the answers are integer-valued. There are two data cleaning issues to solve before we begin, and I've done these below.\n",
    "1. The survey includes \"18+\" as a possible answer. Even though this is not quite accurate, let's just replace this with \"18\" so that we are only dealing with integers. (If we were trying to publish this data, we would at the very least need to make a clear note about this.)\n",
    "2. The age values in the CSV are actually strings, not integers, which will make them hard to sort. Let's convert them to integers.\n",
    "With these handled, I can apply our standard method to get a normalized histogram."
   ]
  },
  {
   "cell_type": "code",
   "execution_count": 51,
   "metadata": {},
   "outputs": [
    {
     "data": {
      "text/plain": [
       "<Axes: title={'center': 'Age of Respondent at First Smartphone'}, xlabel='Age in Years', ylabel='Probability'>"
      ]
     },
     "execution_count": 51,
     "metadata": {},
     "output_type": "execute_result"
    },
    {
     "data": {
      "image/png": "[encoded data removed]",
      "text/plain": [
       "<Figure size 640x480 with 1 Axes>"
      ]
     },
     "metadata": {},
     "output_type": "display_data"
    }
   ],
   "source": [
    "smartphone = surveydata.iloc[:,6]\n",
    "smartphone.replace(\"18+\",\"18\",inplace=True)\n",
    "smartphone = pd.to_numeric(smartphone)\n",
    "#Note below I can encapsulate my command in parentheses to break it up over multiple lines.\n",
    "(smartphone\n",
    " .value_counts(normalize = True)\n",
    " .plot(kind=\"bar\",xlabel = \"Age in Years\", ylabel = \"Probability\", title = \"Age of Respondent at First Smartphone\")\n",
    ")"
   ]
  },
  {
   "cell_type": "markdown",
   "metadata": {},
   "source": [
    "Notice that the plot is sorted by descending probability values, rather than by the x-axis, which is what we would find more intuitive and readable. To fix this, I can just apply `sort_index()` right after `value_counts()`."
   ]
  },
  {
   "cell_type": "code",
   "execution_count": 52,
   "metadata": {},
   "outputs": [
    {
     "data": {
      "text/plain": [
       "<Axes: title={'center': 'Age of Respondent at First Smartphone'}, xlabel='Age in Years', ylabel='Probability'>"
      ]
     },
     "execution_count": 52,
     "metadata": {},
     "output_type": "execute_result"
    },
    {
     "data": {
      "image/png": "[encoded data removed]",
      "text/plain": [
       "<Figure size 640x480 with 1 Axes>"
      ]
     },
     "metadata": {},
     "output_type": "display_data"
    }
   ],
   "source": [
    "(smartphone\n",
    " .value_counts(normalize = True)\n",
    " .sort_index()\n",
    " .plot(kind=\"bar\",xlabel = \"Age in Years\", ylabel = \"Probability\", title = \"Age of Respondent at First Smartphone\")\n",
    ")"
   ]
  },
  {
   "cell_type": "markdown",
   "metadata": {},
   "source": [
    "---\n",
    "#### <span style=\"color:blue\">L2.8 Below, in your own words, provide a rough description of this distribution. Where is it centered? Is it roughly symmetric? </span>\n",
    "---"
   ]
  },
  {
   "cell_type": "markdown",
   "metadata": {},
   "source": [
    "#### Comments on 2.8: It is centered at around 12 - 13 years of age. It is roughly symmetric distribution, having a bell-shaped while the right and left halves are not perfect mirrors of each other.  "
   ]
  },
  {
   "cell_type": "markdown",
   "metadata": {},
   "source": [
    "Finally, let's get an estimate of the cumulative distribution function. As an example, say I create a simple probability mass function (PMF)   "
   ]
  },
  {
   "cell_type": "code",
   "execution_count": 53,
   "metadata": {},
   "outputs": [
    {
     "data": {
      "text/plain": [
       "0    0.3\n",
       "1    0.2\n",
       "2    0.4\n",
       "3    0.1\n",
       "dtype: float64"
      ]
     },
     "execution_count": 53,
     "metadata": {},
     "output_type": "execute_result"
    }
   ],
   "source": [
    "pmftest = pd.Series([0.3, 0.2, 0.4, 0.1])\n",
    "pmftest"
   ]
  },
  {
   "cell_type": "markdown",
   "metadata": {},
   "source": [
    "How do I find the sum of the probability for a given value *and* all preceding values? I can simply use the `cumsum()` command, as shown below. For example, note that 0.3 + 0.2 = 0.5, and 0.3 + 0.2 + 0.4 = 0.9."
   ]
  },
  {
   "cell_type": "code",
   "execution_count": 54,
   "metadata": {},
   "outputs": [
    {
     "data": {
      "text/plain": [
       "0    0.3\n",
       "1    0.5\n",
       "2    0.9\n",
       "3    1.0\n",
       "dtype: float64"
      ]
     },
     "execution_count": 54,
     "metadata": {},
     "output_type": "execute_result"
    }
   ],
   "source": [
    "pmftest.cumsum()"
   ]
  },
  {
   "cell_type": "markdown",
   "metadata": {},
   "source": [
    "---\n",
    "#### <span style=\"color:blue\">L2.9 Estimate the probability that an EK381 student got their first smartphone at age 12 or less. </span>\n",
    "---\n",
    "Hint: Start by counting the values (with normalization on), and then sorting them. (This is done above as part of the histogram generation.) Now, use the cumulative sum. "
   ]
  },
  {
   "cell_type": "code",
   "execution_count": 61,
   "metadata": {},
   "outputs": [
    {
     "data": {
      "text/plain": [
       "At what age did you get your first smartphone?\n",
       "7     0.009302\n",
       "8     0.013953\n",
       "9     0.051163\n",
       "10    0.148837\n",
       "11    0.265116\n",
       "12    0.539535\n",
       "13    0.781395\n",
       "14    0.930233\n",
       "15    0.967442\n",
       "16    0.986047\n",
       "17    0.990698\n",
       "18    1.000000\n",
       "Name: proportion, dtype: float64"
      ]
     },
     "execution_count": 61,
     "metadata": {},
     "output_type": "execute_result"
    }
   ],
   "source": [
    "#Use this cell to generate your cumulative distribution.\n",
    "smartphone.value_counts(normalize = True).sort_index().cumsum()"
   ]
  },
  {
   "cell_type": "markdown",
   "metadata": {},
   "source": [
    "#### The estimated probability that an EK381 got their first smartphone at age 12 or less is 0.539535."
   ]
  }
 ],
 "metadata": {
  "kernelspec": {
   "display_name": "Python 3 (ipykernel)",
   "language": "python",
   "name": "python3"
  },
  "language_info": {
   "codemirror_mode": {
    "name": "ipython",
    "version": 3
   },
   "file_extension": ".py",
   "mimetype": "text/x-python",
   "name": "python",
   "nbconvert_exporter": "python",
   "pygments_lexer": "ipython3",
   "version": "3.11.7"
  }
 },
 "nbformat": 4,
 "nbformat_minor": 4
}
